{
 "cells": [
  {
   "cell_type": "code",
   "execution_count": 1,
   "id": "D4Hp77Lvs7z5",
   "metadata": {
    "colab": {
     "base_uri": "https://localhost:8080/"
    },
    "executionInfo": {
     "elapsed": 26639,
     "status": "ok",
     "timestamp": 1709882482017,
     "user": {
      "displayName": "Mosa Alshwafi",
      "userId": "10914411233255572215"
     },
     "user_tz": -480
    },
    "id": "D4Hp77Lvs7z5",
    "outputId": "9a8e30b4-8d08-40bf-d04c-1a409ca62ee7"
   },
   "outputs": [
    {
     "name": "stdout",
     "output_type": "stream",
     "text": [
      "Mounted at /content/drive\n"
     ]
    }
   ],
   "source": [
    "from google.colab import drive\n",
    "drive.mount('/content/drive')"
   ]
  },
  {
   "cell_type": "code",
   "execution_count": 2,
   "id": "62_c_tVSs-FW",
   "metadata": {
    "colab": {
     "base_uri": "https://localhost:8080/"
    },
    "executionInfo": {
     "elapsed": 673,
     "status": "ok",
     "timestamp": 1709882486170,
     "user": {
      "displayName": "Mosa Alshwafi",
      "userId": "10914411233255572215"
     },
     "user_tz": -480
    },
    "id": "62_c_tVSs-FW",
    "outputId": "c030e5ab-00a6-428d-f01c-9fced5c49526"
   },
   "outputs": [
    {
     "name": "stdout",
     "output_type": "stream",
     "text": [
      "/content/drive/MyDrive/Colab Notebooks/Hyperspectral Image Datasets/Data\n"
     ]
    }
   ],
   "source": [
    "%cd /content/drive/MyDrive/Colab Notebooks/Hyperspectral Image Datasets/Datasets/"
   ]
  },
  {
   "cell_type": "markdown",
   "id": "47277f28",
   "metadata": {
    "id": "47277f28"
   },
   "source": [
    "# Import Libraries"
   ]
  },
  {
   "cell_type": "code",
   "execution_count": null,
   "id": "AxGi6BBCtAPa",
   "metadata": {
    "id": "AxGi6BBCtAPa"
   },
   "outputs": [],
   "source": [
    "!pip install earthpy"
   ]
  },
  {
   "cell_type": "code",
   "execution_count": null,
   "id": "gMpijIrKtC9n",
   "metadata": {
    "id": "gMpijIrKtC9n"
   },
   "outputs": [],
   "source": [
    "!pip install tensorflow_addons"
   ]
  },
  {
   "cell_type": "code",
   "execution_count": null,
   "id": "ZzPnJiqUtE7x",
   "metadata": {
    "id": "ZzPnJiqUtE7x"
   },
   "outputs": [],
   "source": [
    "!pip install spectral"
   ]
  },
  {
   "cell_type": "code",
   "execution_count": 6,
   "id": "PQk5Kl_2tNv8",
   "metadata": {
    "executionInfo": {
     "elapsed": 5071,
     "status": "ok",
     "timestamp": 1709882540693,
     "user": {
      "displayName": "Mosa Alshwafi",
      "userId": "10914411233255572215"
     },
     "user_tz": -480
    },
    "id": "PQk5Kl_2tNv8"
   },
   "outputs": [],
   "source": [
    "import sys\n",
    "# Append the directory to your python path using sys\n",
    "sys.path.append('/content/drive/MyDrive/Colab Notebooks/Project_Path')\n",
    "# Import the module\n",
    "import SWIN_Transformer_Model"
   ]
  },
  {
   "cell_type": "code",
   "execution_count": 8,
   "id": "3a17aff1",
   "metadata": {
    "executionInfo": {
     "elapsed": 2,
     "status": "ok",
     "timestamp": 1709882546519,
     "user": {
      "displayName": "Mosa Alshwafi",
      "userId": "10914411233255572215"
     },
     "user_tz": -480
    },
    "id": "3a17aff1"
   },
   "outputs": [],
   "source": [
    "import matplotlib.pyplot as plt\n",
    "\n",
    "import numpy as np\n",
    "import earthpy.plot as ep\n",
    "import seaborn as sns\n",
    "import earthpy.spatial as es\n",
    "\n",
    "import plotly.graph_objects as go\n",
    "import plotly.express as px\n",
    "\n",
    "from scipy.io import loadmat\n",
    "\n",
    "import pandas as pd\n",
    "\n",
    "from sklearn.preprocessing import minmax_scale\n",
    "from sklearn.model_selection import train_test_split\n",
    "from sklearn.metrics import (accuracy_score,\n",
    "                             confusion_matrix, classification_report)\n",
    "\n",
    "import tensorflow as tf\n",
    "from tensorflow import keras\n",
    "from keras.layers import Input, Dense, MaxPooling2D, Dropout, Flatten, Conv2D, Conv3D, LeakyReLU, Reshape\n",
    "from keras.models import Sequential\n",
    "from keras.utils import to_categorical\n",
    "from keras import layers\n",
    "from keras.models import Model\n",
    "from tensorflow.python.keras.utils import np_utils\n",
    "import tensorflow_addons as tfa\n",
    "\n",
    "\n",
    "from tqdm import tqdm\n",
    "from numpy.random import seed\n",
    "from time import time\n",
    "\n",
    "from SWIN_Transformer_Model import PatchMerging, PatchExtract, PatchEmbedding, SwinTransformer\n",
    "from operator import truediv\n",
    "from sklearn.metrics import confusion_matrix, accuracy_score, classification_report, cohen_kappa_score\n",
    "import spectral\n",
    "from sklearn.decomposition import IncrementalPCA\n",
    "from sklearn.decomposition import PCA\n",
    "\n",
    "import os\n",
    "\n",
    "seed(11)"
   ]
  },
  {
   "cell_type": "markdown",
   "id": "2c81d430",
   "metadata": {
    "id": "2c81d430"
   },
   "source": [
    "# Load Data"
   ]
  },
  {
   "cell_type": "code",
   "execution_count": 9,
   "id": "2a41036f",
   "metadata": {
    "colab": {
     "base_uri": "https://localhost:8080/"
    },
    "executionInfo": {
     "elapsed": 3310,
     "status": "ok",
     "timestamp": 1709882553911,
     "user": {
      "displayName": "Mosa Alshwafi",
      "userId": "10914411233255572215"
     },
     "user_tz": -480
    },
    "id": "2a41036f",
    "outputId": "0f612a95-3cd6-43f4-dbf8-d6ba1c0e127b"
   },
   "outputs": [
    {
     "name": "stdout",
     "output_type": "stream",
     "text": [
      "Data Shape: (610, 340)\n",
      "Number of Bands: 103\n"
     ]
    }
   ],
   "source": [
    "################## X data (610, 340, 103)   Hyperspectral satellite   (610*340, 103)\n",
    "data = loadmat('PU/PaviaU.mat')['paviaU']\n",
    "\n",
    "\n",
    "###################### Y data (labels)\n",
    "gt = loadmat('PU/PaviaU_gt.mat')['paviaU_gt']\n",
    "\n",
    "print(f'Data Shape: {data.shape[:-1]}\\nNumber of Bands: {data.shape[-1]}')"
   ]
  },
  {
   "cell_type": "code",
   "execution_count": null,
   "id": "614e6835",
   "metadata": {
    "id": "614e6835"
   },
   "outputs": [],
   "source": [
    "df = pd.DataFrame(data.reshape(data.shape[0]*data.shape[1], -1))\n",
    "\n",
    "df.columns = [f'band{i}' for i in range(1, df.shape[-1]+1)]\n",
    "\n",
    "df['class'] = gt.ravel()"
   ]
  },
  {
   "cell_type": "code",
   "execution_count": null,
   "id": "f3732425",
   "metadata": {
    "colab": {
     "base_uri": "https://localhost:8080/",
     "height": 236
    },
    "executionInfo": {
     "elapsed": 4,
     "status": "ok",
     "timestamp": 1709451163399,
     "user": {
      "displayName": "Mosa Alshwafi",
      "userId": "10914411233255572215"
     },
     "user_tz": -480
    },
    "id": "f3732425",
    "outputId": "121e922b-dca4-49e3-ee6b-7971e1108dcb"
   },
   "outputs": [
    {
     "data": {
      "application/vnd.google.colaboratory.intrinsic+json": {
       "type": "dataframe",
       "variable_name": "df"
      },
      "text/html": [
       "\n",
       "  <div id=\"df-aeb01890-0bbf-43e3-aa18-4ce89537eb2a\" class=\"colab-df-container\">\n",
       "    <div>\n",
       "<style scoped>\n",
       "    .dataframe tbody tr th:only-of-type {\n",
       "        vertical-align: middle;\n",
       "    }\n",
       "\n",
       "    .dataframe tbody tr th {\n",
       "        vertical-align: top;\n",
       "    }\n",
       "\n",
       "    .dataframe thead th {\n",
       "        text-align: right;\n",
       "    }\n",
       "</style>\n",
       "<table border=\"1\" class=\"dataframe\">\n",
       "  <thead>\n",
       "    <tr style=\"text-align: right;\">\n",
       "      <th></th>\n",
       "      <th>band1</th>\n",
       "      <th>band2</th>\n",
       "      <th>band3</th>\n",
       "      <th>band4</th>\n",
       "      <th>band5</th>\n",
       "      <th>band6</th>\n",
       "      <th>band7</th>\n",
       "      <th>band8</th>\n",
       "      <th>band9</th>\n",
       "      <th>band10</th>\n",
       "      <th>...</th>\n",
       "      <th>band95</th>\n",
       "      <th>band96</th>\n",
       "      <th>band97</th>\n",
       "      <th>band98</th>\n",
       "      <th>band99</th>\n",
       "      <th>band100</th>\n",
       "      <th>band101</th>\n",
       "      <th>band102</th>\n",
       "      <th>band103</th>\n",
       "      <th>class</th>\n",
       "    </tr>\n",
       "  </thead>\n",
       "  <tbody>\n",
       "    <tr>\n",
       "      <th>0</th>\n",
       "      <td>647</td>\n",
       "      <td>499</td>\n",
       "      <td>464</td>\n",
       "      <td>371</td>\n",
       "      <td>291</td>\n",
       "      <td>319</td>\n",
       "      <td>365</td>\n",
       "      <td>322</td>\n",
       "      <td>296</td>\n",
       "      <td>305</td>\n",
       "      <td>...</td>\n",
       "      <td>3416</td>\n",
       "      <td>3335</td>\n",
       "      <td>3256</td>\n",
       "      <td>3226</td>\n",
       "      <td>3205</td>\n",
       "      <td>3210</td>\n",
       "      <td>3221</td>\n",
       "      <td>3238</td>\n",
       "      <td>3250</td>\n",
       "      <td>0</td>\n",
       "    </tr>\n",
       "    <tr>\n",
       "      <th>1</th>\n",
       "      <td>604</td>\n",
       "      <td>546</td>\n",
       "      <td>527</td>\n",
       "      <td>455</td>\n",
       "      <td>378</td>\n",
       "      <td>377</td>\n",
       "      <td>336</td>\n",
       "      <td>314</td>\n",
       "      <td>324</td>\n",
       "      <td>329</td>\n",
       "      <td>...</td>\n",
       "      <td>2583</td>\n",
       "      <td>2538</td>\n",
       "      <td>2509</td>\n",
       "      <td>2511</td>\n",
       "      <td>2501</td>\n",
       "      <td>2468</td>\n",
       "      <td>2442</td>\n",
       "      <td>2464</td>\n",
       "      <td>2528</td>\n",
       "      <td>0</td>\n",
       "    </tr>\n",
       "    <tr>\n",
       "      <th>2</th>\n",
       "      <td>621</td>\n",
       "      <td>746</td>\n",
       "      <td>556</td>\n",
       "      <td>360</td>\n",
       "      <td>285</td>\n",
       "      <td>300</td>\n",
       "      <td>274</td>\n",
       "      <td>276</td>\n",
       "      <td>332</td>\n",
       "      <td>319</td>\n",
       "      <td>...</td>\n",
       "      <td>2288</td>\n",
       "      <td>2242</td>\n",
       "      <td>2193</td>\n",
       "      <td>2202</td>\n",
       "      <td>2225</td>\n",
       "      <td>2266</td>\n",
       "      <td>2308</td>\n",
       "      <td>2345</td>\n",
       "      <td>2361</td>\n",
       "      <td>0</td>\n",
       "    </tr>\n",
       "    <tr>\n",
       "      <th>3</th>\n",
       "      <td>637</td>\n",
       "      <td>592</td>\n",
       "      <td>482</td>\n",
       "      <td>556</td>\n",
       "      <td>508</td>\n",
       "      <td>284</td>\n",
       "      <td>178</td>\n",
       "      <td>198</td>\n",
       "      <td>193</td>\n",
       "      <td>224</td>\n",
       "      <td>...</td>\n",
       "      <td>2675</td>\n",
       "      <td>2609</td>\n",
       "      <td>2541</td>\n",
       "      <td>2551</td>\n",
       "      <td>2571</td>\n",
       "      <td>2569</td>\n",
       "      <td>2573</td>\n",
       "      <td>2620</td>\n",
       "      <td>2644</td>\n",
       "      <td>0</td>\n",
       "    </tr>\n",
       "    <tr>\n",
       "      <th>4</th>\n",
       "      <td>625</td>\n",
       "      <td>560</td>\n",
       "      <td>480</td>\n",
       "      <td>360</td>\n",
       "      <td>377</td>\n",
       "      <td>341</td>\n",
       "      <td>264</td>\n",
       "      <td>208</td>\n",
       "      <td>231</td>\n",
       "      <td>266</td>\n",
       "      <td>...</td>\n",
       "      <td>2392</td>\n",
       "      <td>2344</td>\n",
       "      <td>2289</td>\n",
       "      <td>2328</td>\n",
       "      <td>2415</td>\n",
       "      <td>2424</td>\n",
       "      <td>2386</td>\n",
       "      <td>2431</td>\n",
       "      <td>2456</td>\n",
       "      <td>0</td>\n",
       "    </tr>\n",
       "  </tbody>\n",
       "</table>\n",
       "<p>5 rows × 104 columns</p>\n",
       "</div>\n",
       "    <div class=\"colab-df-buttons\">\n",
       "\n",
       "  <div class=\"colab-df-container\">\n",
       "    <button class=\"colab-df-convert\" onclick=\"convertToInteractive('df-aeb01890-0bbf-43e3-aa18-4ce89537eb2a')\"\n",
       "            title=\"Convert this dataframe to an interactive table.\"\n",
       "            style=\"display:none;\">\n",
       "\n",
       "  <svg xmlns=\"http://www.w3.org/2000/svg\" height=\"24px\" viewBox=\"0 -960 960 960\">\n",
       "    <path d=\"M120-120v-720h720v720H120Zm60-500h600v-160H180v160Zm220 220h160v-160H400v160Zm0 220h160v-160H400v160ZM180-400h160v-160H180v160Zm440 0h160v-160H620v160ZM180-180h160v-160H180v160Zm440 0h160v-160H620v160Z\"/>\n",
       "  </svg>\n",
       "    </button>\n",
       "\n",
       "  <style>\n",
       "    .colab-df-container {\n",
       "      display:flex;\n",
       "      gap: 12px;\n",
       "    }\n",
       "\n",
       "    .colab-df-convert {\n",
       "      background-color: #E8F0FE;\n",
       "      border: none;\n",
       "      border-radius: 50%;\n",
       "      cursor: pointer;\n",
       "      display: none;\n",
       "      fill: #1967D2;\n",
       "      height: 32px;\n",
       "      padding: 0 0 0 0;\n",
       "      width: 32px;\n",
       "    }\n",
       "\n",
       "    .colab-df-convert:hover {\n",
       "      background-color: #E2EBFA;\n",
       "      box-shadow: 0px 1px 2px rgba(60, 64, 67, 0.3), 0px 1px 3px 1px rgba(60, 64, 67, 0.15);\n",
       "      fill: #174EA6;\n",
       "    }\n",
       "\n",
       "    .colab-df-buttons div {\n",
       "      margin-bottom: 4px;\n",
       "    }\n",
       "\n",
       "    [theme=dark] .colab-df-convert {\n",
       "      background-color: #3B4455;\n",
       "      fill: #D2E3FC;\n",
       "    }\n",
       "\n",
       "    [theme=dark] .colab-df-convert:hover {\n",
       "      background-color: #434B5C;\n",
       "      box-shadow: 0px 1px 3px 1px rgba(0, 0, 0, 0.15);\n",
       "      filter: drop-shadow(0px 1px 2px rgba(0, 0, 0, 0.3));\n",
       "      fill: #FFFFFF;\n",
       "    }\n",
       "  </style>\n",
       "\n",
       "    <script>\n",
       "      const buttonEl =\n",
       "        document.querySelector('#df-aeb01890-0bbf-43e3-aa18-4ce89537eb2a button.colab-df-convert');\n",
       "      buttonEl.style.display =\n",
       "        google.colab.kernel.accessAllowed ? 'block' : 'none';\n",
       "\n",
       "      async function convertToInteractive(key) {\n",
       "        const element = document.querySelector('#df-aeb01890-0bbf-43e3-aa18-4ce89537eb2a');\n",
       "        const dataTable =\n",
       "          await google.colab.kernel.invokeFunction('convertToInteractive',\n",
       "                                                    [key], {});\n",
       "        if (!dataTable) return;\n",
       "\n",
       "        const docLinkHtml = 'Like what you see? Visit the ' +\n",
       "          '<a target=\"_blank\" href=https://colab.research.google.com/notebooks/data_table.ipynb>data table notebook</a>'\n",
       "          + ' to learn more about interactive tables.';\n",
       "        element.innerHTML = '';\n",
       "        dataTable['output_type'] = 'display_data';\n",
       "        await google.colab.output.renderOutput(dataTable, element);\n",
       "        const docLink = document.createElement('div');\n",
       "        docLink.innerHTML = docLinkHtml;\n",
       "        element.appendChild(docLink);\n",
       "      }\n",
       "    </script>\n",
       "  </div>\n",
       "\n",
       "\n",
       "<div id=\"df-ac6d245f-7420-493c-927b-a38bdca35ccc\">\n",
       "  <button class=\"colab-df-quickchart\" onclick=\"quickchart('df-ac6d245f-7420-493c-927b-a38bdca35ccc')\"\n",
       "            title=\"Suggest charts\"\n",
       "            style=\"display:none;\">\n",
       "\n",
       "<svg xmlns=\"http://www.w3.org/2000/svg\" height=\"24px\"viewBox=\"0 0 24 24\"\n",
       "     width=\"24px\">\n",
       "    <g>\n",
       "        <path d=\"M19 3H5c-1.1 0-2 .9-2 2v14c0 1.1.9 2 2 2h14c1.1 0 2-.9 2-2V5c0-1.1-.9-2-2-2zM9 17H7v-7h2v7zm4 0h-2V7h2v10zm4 0h-2v-4h2v4z\"/>\n",
       "    </g>\n",
       "</svg>\n",
       "  </button>\n",
       "\n",
       "<style>\n",
       "  .colab-df-quickchart {\n",
       "      --bg-color: #E8F0FE;\n",
       "      --fill-color: #1967D2;\n",
       "      --hover-bg-color: #E2EBFA;\n",
       "      --hover-fill-color: #174EA6;\n",
       "      --disabled-fill-color: #AAA;\n",
       "      --disabled-bg-color: #DDD;\n",
       "  }\n",
       "\n",
       "  [theme=dark] .colab-df-quickchart {\n",
       "      --bg-color: #3B4455;\n",
       "      --fill-color: #D2E3FC;\n",
       "      --hover-bg-color: #434B5C;\n",
       "      --hover-fill-color: #FFFFFF;\n",
       "      --disabled-bg-color: #3B4455;\n",
       "      --disabled-fill-color: #666;\n",
       "  }\n",
       "\n",
       "  .colab-df-quickchart {\n",
       "    background-color: var(--bg-color);\n",
       "    border: none;\n",
       "    border-radius: 50%;\n",
       "    cursor: pointer;\n",
       "    display: none;\n",
       "    fill: var(--fill-color);\n",
       "    height: 32px;\n",
       "    padding: 0;\n",
       "    width: 32px;\n",
       "  }\n",
       "\n",
       "  .colab-df-quickchart:hover {\n",
       "    background-color: var(--hover-bg-color);\n",
       "    box-shadow: 0 1px 2px rgba(60, 64, 67, 0.3), 0 1px 3px 1px rgba(60, 64, 67, 0.15);\n",
       "    fill: var(--button-hover-fill-color);\n",
       "  }\n",
       "\n",
       "  .colab-df-quickchart-complete:disabled,\n",
       "  .colab-df-quickchart-complete:disabled:hover {\n",
       "    background-color: var(--disabled-bg-color);\n",
       "    fill: var(--disabled-fill-color);\n",
       "    box-shadow: none;\n",
       "  }\n",
       "\n",
       "  .colab-df-spinner {\n",
       "    border: 2px solid var(--fill-color);\n",
       "    border-color: transparent;\n",
       "    border-bottom-color: var(--fill-color);\n",
       "    animation:\n",
       "      spin 1s steps(1) infinite;\n",
       "  }\n",
       "\n",
       "  @keyframes spin {\n",
       "    0% {\n",
       "      border-color: transparent;\n",
       "      border-bottom-color: var(--fill-color);\n",
       "      border-left-color: var(--fill-color);\n",
       "    }\n",
       "    20% {\n",
       "      border-color: transparent;\n",
       "      border-left-color: var(--fill-color);\n",
       "      border-top-color: var(--fill-color);\n",
       "    }\n",
       "    30% {\n",
       "      border-color: transparent;\n",
       "      border-left-color: var(--fill-color);\n",
       "      border-top-color: var(--fill-color);\n",
       "      border-right-color: var(--fill-color);\n",
       "    }\n",
       "    40% {\n",
       "      border-color: transparent;\n",
       "      border-right-color: var(--fill-color);\n",
       "      border-top-color: var(--fill-color);\n",
       "    }\n",
       "    60% {\n",
       "      border-color: transparent;\n",
       "      border-right-color: var(--fill-color);\n",
       "    }\n",
       "    80% {\n",
       "      border-color: transparent;\n",
       "      border-right-color: var(--fill-color);\n",
       "      border-bottom-color: var(--fill-color);\n",
       "    }\n",
       "    90% {\n",
       "      border-color: transparent;\n",
       "      border-bottom-color: var(--fill-color);\n",
       "    }\n",
       "  }\n",
       "</style>\n",
       "\n",
       "  <script>\n",
       "    async function quickchart(key) {\n",
       "      const quickchartButtonEl =\n",
       "        document.querySelector('#' + key + ' button');\n",
       "      quickchartButtonEl.disabled = true;  // To prevent multiple clicks.\n",
       "      quickchartButtonEl.classList.add('colab-df-spinner');\n",
       "      try {\n",
       "        const charts = await google.colab.kernel.invokeFunction(\n",
       "            'suggestCharts', [key], {});\n",
       "      } catch (error) {\n",
       "        console.error('Error during call to suggestCharts:', error);\n",
       "      }\n",
       "      quickchartButtonEl.classList.remove('colab-df-spinner');\n",
       "      quickchartButtonEl.classList.add('colab-df-quickchart-complete');\n",
       "    }\n",
       "    (() => {\n",
       "      let quickchartButtonEl =\n",
       "        document.querySelector('#df-ac6d245f-7420-493c-927b-a38bdca35ccc button');\n",
       "      quickchartButtonEl.style.display =\n",
       "        google.colab.kernel.accessAllowed ? 'block' : 'none';\n",
       "    })();\n",
       "  </script>\n",
       "</div>\n",
       "\n",
       "    </div>\n",
       "  </div>\n"
      ],
      "text/plain": [
       "   band1  band2  band3  band4  band5  band6  band7  band8  band9  band10  ...  \\\n",
       "0    647    499    464    371    291    319    365    322    296     305  ...   \n",
       "1    604    546    527    455    378    377    336    314    324     329  ...   \n",
       "2    621    746    556    360    285    300    274    276    332     319  ...   \n",
       "3    637    592    482    556    508    284    178    198    193     224  ...   \n",
       "4    625    560    480    360    377    341    264    208    231     266  ...   \n",
       "\n",
       "   band95  band96  band97  band98  band99  band100  band101  band102  band103  \\\n",
       "0    3416    3335    3256    3226    3205     3210     3221     3238     3250   \n",
       "1    2583    2538    2509    2511    2501     2468     2442     2464     2528   \n",
       "2    2288    2242    2193    2202    2225     2266     2308     2345     2361   \n",
       "3    2675    2609    2541    2551    2571     2569     2573     2620     2644   \n",
       "4    2392    2344    2289    2328    2415     2424     2386     2431     2456   \n",
       "\n",
       "   class  \n",
       "0      0  \n",
       "1      0  \n",
       "2      0  \n",
       "3      0  \n",
       "4      0  \n",
       "\n",
       "[5 rows x 104 columns]"
      ]
     },
     "execution_count": 14,
     "metadata": {},
     "output_type": "execute_result"
    }
   ],
   "source": [
    "df.head()"
   ]
  },
  {
   "cell_type": "code",
   "execution_count": null,
   "id": "6399a552",
   "metadata": {
    "colab": {
     "base_uri": "https://localhost:8080/",
     "height": 424
    },
    "executionInfo": {
     "elapsed": 5,
     "status": "ok",
     "timestamp": 1709451165864,
     "user": {
      "displayName": "Mosa Alshwafi",
      "userId": "10914411233255572215"
     },
     "user_tz": -480
    },
    "id": "6399a552",
    "outputId": "b02568a5-7e65-46c5-d51a-5dc28652e37d"
   },
   "outputs": [
    {
     "data": {
      "application/vnd.google.colaboratory.intrinsic+json": {
       "type": "dataframe",
       "variable_name": "df"
      },
      "text/html": [
       "\n",
       "  <div id=\"df-3cfaf098-5b69-492f-9298-9090752ca964\" class=\"colab-df-container\">\n",
       "    <div>\n",
       "<style scoped>\n",
       "    .dataframe tbody tr th:only-of-type {\n",
       "        vertical-align: middle;\n",
       "    }\n",
       "\n",
       "    .dataframe tbody tr th {\n",
       "        vertical-align: top;\n",
       "    }\n",
       "\n",
       "    .dataframe thead th {\n",
       "        text-align: right;\n",
       "    }\n",
       "</style>\n",
       "<table border=\"1\" class=\"dataframe\">\n",
       "  <thead>\n",
       "    <tr style=\"text-align: right;\">\n",
       "      <th></th>\n",
       "      <th>band1</th>\n",
       "      <th>band2</th>\n",
       "      <th>band3</th>\n",
       "      <th>band4</th>\n",
       "      <th>band5</th>\n",
       "      <th>band6</th>\n",
       "      <th>band7</th>\n",
       "      <th>band8</th>\n",
       "      <th>band9</th>\n",
       "      <th>band10</th>\n",
       "      <th>...</th>\n",
       "      <th>band95</th>\n",
       "      <th>band96</th>\n",
       "      <th>band97</th>\n",
       "      <th>band98</th>\n",
       "      <th>band99</th>\n",
       "      <th>band100</th>\n",
       "      <th>band101</th>\n",
       "      <th>band102</th>\n",
       "      <th>band103</th>\n",
       "      <th>class</th>\n",
       "    </tr>\n",
       "  </thead>\n",
       "  <tbody>\n",
       "    <tr>\n",
       "      <th>0</th>\n",
       "      <td>647</td>\n",
       "      <td>499</td>\n",
       "      <td>464</td>\n",
       "      <td>371</td>\n",
       "      <td>291</td>\n",
       "      <td>319</td>\n",
       "      <td>365</td>\n",
       "      <td>322</td>\n",
       "      <td>296</td>\n",
       "      <td>305</td>\n",
       "      <td>...</td>\n",
       "      <td>3416</td>\n",
       "      <td>3335</td>\n",
       "      <td>3256</td>\n",
       "      <td>3226</td>\n",
       "      <td>3205</td>\n",
       "      <td>3210</td>\n",
       "      <td>3221</td>\n",
       "      <td>3238</td>\n",
       "      <td>3250</td>\n",
       "      <td>0</td>\n",
       "    </tr>\n",
       "    <tr>\n",
       "      <th>1</th>\n",
       "      <td>604</td>\n",
       "      <td>546</td>\n",
       "      <td>527</td>\n",
       "      <td>455</td>\n",
       "      <td>378</td>\n",
       "      <td>377</td>\n",
       "      <td>336</td>\n",
       "      <td>314</td>\n",
       "      <td>324</td>\n",
       "      <td>329</td>\n",
       "      <td>...</td>\n",
       "      <td>2583</td>\n",
       "      <td>2538</td>\n",
       "      <td>2509</td>\n",
       "      <td>2511</td>\n",
       "      <td>2501</td>\n",
       "      <td>2468</td>\n",
       "      <td>2442</td>\n",
       "      <td>2464</td>\n",
       "      <td>2528</td>\n",
       "      <td>0</td>\n",
       "    </tr>\n",
       "    <tr>\n",
       "      <th>2</th>\n",
       "      <td>621</td>\n",
       "      <td>746</td>\n",
       "      <td>556</td>\n",
       "      <td>360</td>\n",
       "      <td>285</td>\n",
       "      <td>300</td>\n",
       "      <td>274</td>\n",
       "      <td>276</td>\n",
       "      <td>332</td>\n",
       "      <td>319</td>\n",
       "      <td>...</td>\n",
       "      <td>2288</td>\n",
       "      <td>2242</td>\n",
       "      <td>2193</td>\n",
       "      <td>2202</td>\n",
       "      <td>2225</td>\n",
       "      <td>2266</td>\n",
       "      <td>2308</td>\n",
       "      <td>2345</td>\n",
       "      <td>2361</td>\n",
       "      <td>0</td>\n",
       "    </tr>\n",
       "    <tr>\n",
       "      <th>3</th>\n",
       "      <td>637</td>\n",
       "      <td>592</td>\n",
       "      <td>482</td>\n",
       "      <td>556</td>\n",
       "      <td>508</td>\n",
       "      <td>284</td>\n",
       "      <td>178</td>\n",
       "      <td>198</td>\n",
       "      <td>193</td>\n",
       "      <td>224</td>\n",
       "      <td>...</td>\n",
       "      <td>2675</td>\n",
       "      <td>2609</td>\n",
       "      <td>2541</td>\n",
       "      <td>2551</td>\n",
       "      <td>2571</td>\n",
       "      <td>2569</td>\n",
       "      <td>2573</td>\n",
       "      <td>2620</td>\n",
       "      <td>2644</td>\n",
       "      <td>0</td>\n",
       "    </tr>\n",
       "    <tr>\n",
       "      <th>4</th>\n",
       "      <td>625</td>\n",
       "      <td>560</td>\n",
       "      <td>480</td>\n",
       "      <td>360</td>\n",
       "      <td>377</td>\n",
       "      <td>341</td>\n",
       "      <td>264</td>\n",
       "      <td>208</td>\n",
       "      <td>231</td>\n",
       "      <td>266</td>\n",
       "      <td>...</td>\n",
       "      <td>2392</td>\n",
       "      <td>2344</td>\n",
       "      <td>2289</td>\n",
       "      <td>2328</td>\n",
       "      <td>2415</td>\n",
       "      <td>2424</td>\n",
       "      <td>2386</td>\n",
       "      <td>2431</td>\n",
       "      <td>2456</td>\n",
       "      <td>0</td>\n",
       "    </tr>\n",
       "    <tr>\n",
       "      <th>...</th>\n",
       "      <td>...</td>\n",
       "      <td>...</td>\n",
       "      <td>...</td>\n",
       "      <td>...</td>\n",
       "      <td>...</td>\n",
       "      <td>...</td>\n",
       "      <td>...</td>\n",
       "      <td>...</td>\n",
       "      <td>...</td>\n",
       "      <td>...</td>\n",
       "      <td>...</td>\n",
       "      <td>...</td>\n",
       "      <td>...</td>\n",
       "      <td>...</td>\n",
       "      <td>...</td>\n",
       "      <td>...</td>\n",
       "      <td>...</td>\n",
       "      <td>...</td>\n",
       "      <td>...</td>\n",
       "      <td>...</td>\n",
       "      <td>...</td>\n",
       "    </tr>\n",
       "    <tr>\n",
       "      <th>207395</th>\n",
       "      <td>574</td>\n",
       "      <td>594</td>\n",
       "      <td>504</td>\n",
       "      <td>411</td>\n",
       "      <td>468</td>\n",
       "      <td>443</td>\n",
       "      <td>378</td>\n",
       "      <td>342</td>\n",
       "      <td>352</td>\n",
       "      <td>434</td>\n",
       "      <td>...</td>\n",
       "      <td>2150</td>\n",
       "      <td>2157</td>\n",
       "      <td>2157</td>\n",
       "      <td>2169</td>\n",
       "      <td>2151</td>\n",
       "      <td>2108</td>\n",
       "      <td>2077</td>\n",
       "      <td>2076</td>\n",
       "      <td>2136</td>\n",
       "      <td>0</td>\n",
       "    </tr>\n",
       "    <tr>\n",
       "      <th>207396</th>\n",
       "      <td>485</td>\n",
       "      <td>644</td>\n",
       "      <td>709</td>\n",
       "      <td>582</td>\n",
       "      <td>504</td>\n",
       "      <td>494</td>\n",
       "      <td>434</td>\n",
       "      <td>373</td>\n",
       "      <td>391</td>\n",
       "      <td>421</td>\n",
       "      <td>...</td>\n",
       "      <td>2264</td>\n",
       "      <td>2295</td>\n",
       "      <td>2282</td>\n",
       "      <td>2265</td>\n",
       "      <td>2275</td>\n",
       "      <td>2293</td>\n",
       "      <td>2274</td>\n",
       "      <td>2274</td>\n",
       "      <td>2258</td>\n",
       "      <td>0</td>\n",
       "    </tr>\n",
       "    <tr>\n",
       "      <th>207397</th>\n",
       "      <td>593</td>\n",
       "      <td>387</td>\n",
       "      <td>428</td>\n",
       "      <td>461</td>\n",
       "      <td>470</td>\n",
       "      <td>392</td>\n",
       "      <td>331</td>\n",
       "      <td>383</td>\n",
       "      <td>439</td>\n",
       "      <td>355</td>\n",
       "      <td>...</td>\n",
       "      <td>2393</td>\n",
       "      <td>2407</td>\n",
       "      <td>2433</td>\n",
       "      <td>2413</td>\n",
       "      <td>2373</td>\n",
       "      <td>2389</td>\n",
       "      <td>2382</td>\n",
       "      <td>2407</td>\n",
       "      <td>2423</td>\n",
       "      <td>0</td>\n",
       "    </tr>\n",
       "    <tr>\n",
       "      <th>207398</th>\n",
       "      <td>593</td>\n",
       "      <td>751</td>\n",
       "      <td>655</td>\n",
       "      <td>458</td>\n",
       "      <td>503</td>\n",
       "      <td>560</td>\n",
       "      <td>482</td>\n",
       "      <td>412</td>\n",
       "      <td>404</td>\n",
       "      <td>454</td>\n",
       "      <td>...</td>\n",
       "      <td>2340</td>\n",
       "      <td>2333</td>\n",
       "      <td>2332</td>\n",
       "      <td>2288</td>\n",
       "      <td>2251</td>\n",
       "      <td>2280</td>\n",
       "      <td>2312</td>\n",
       "      <td>2308</td>\n",
       "      <td>2289</td>\n",
       "      <td>0</td>\n",
       "    </tr>\n",
       "    <tr>\n",
       "      <th>207399</th>\n",
       "      <td>889</td>\n",
       "      <td>720</td>\n",
       "      <td>449</td>\n",
       "      <td>402</td>\n",
       "      <td>409</td>\n",
       "      <td>410</td>\n",
       "      <td>424</td>\n",
       "      <td>416</td>\n",
       "      <td>395</td>\n",
       "      <td>319</td>\n",
       "      <td>...</td>\n",
       "      <td>2496</td>\n",
       "      <td>2502</td>\n",
       "      <td>2483</td>\n",
       "      <td>2488</td>\n",
       "      <td>2498</td>\n",
       "      <td>2455</td>\n",
       "      <td>2416</td>\n",
       "      <td>2447</td>\n",
       "      <td>2485</td>\n",
       "      <td>0</td>\n",
       "    </tr>\n",
       "  </tbody>\n",
       "</table>\n",
       "<p>207400 rows × 104 columns</p>\n",
       "</div>\n",
       "    <div class=\"colab-df-buttons\">\n",
       "\n",
       "  <div class=\"colab-df-container\">\n",
       "    <button class=\"colab-df-convert\" onclick=\"convertToInteractive('df-3cfaf098-5b69-492f-9298-9090752ca964')\"\n",
       "            title=\"Convert this dataframe to an interactive table.\"\n",
       "            style=\"display:none;\">\n",
       "\n",
       "  <svg xmlns=\"http://www.w3.org/2000/svg\" height=\"24px\" viewBox=\"0 -960 960 960\">\n",
       "    <path d=\"M120-120v-720h720v720H120Zm60-500h600v-160H180v160Zm220 220h160v-160H400v160Zm0 220h160v-160H400v160ZM180-400h160v-160H180v160Zm440 0h160v-160H620v160ZM180-180h160v-160H180v160Zm440 0h160v-160H620v160Z\"/>\n",
       "  </svg>\n",
       "    </button>\n",
       "\n",
       "  <style>\n",
       "    .colab-df-container {\n",
       "      display:flex;\n",
       "      gap: 12px;\n",
       "    }\n",
       "\n",
       "    .colab-df-convert {\n",
       "      background-color: #E8F0FE;\n",
       "      border: none;\n",
       "      border-radius: 50%;\n",
       "      cursor: pointer;\n",
       "      display: none;\n",
       "      fill: #1967D2;\n",
       "      height: 32px;\n",
       "      padding: 0 0 0 0;\n",
       "      width: 32px;\n",
       "    }\n",
       "\n",
       "    .colab-df-convert:hover {\n",
       "      background-color: #E2EBFA;\n",
       "      box-shadow: 0px 1px 2px rgba(60, 64, 67, 0.3), 0px 1px 3px 1px rgba(60, 64, 67, 0.15);\n",
       "      fill: #174EA6;\n",
       "    }\n",
       "\n",
       "    .colab-df-buttons div {\n",
       "      margin-bottom: 4px;\n",
       "    }\n",
       "\n",
       "    [theme=dark] .colab-df-convert {\n",
       "      background-color: #3B4455;\n",
       "      fill: #D2E3FC;\n",
       "    }\n",
       "\n",
       "    [theme=dark] .colab-df-convert:hover {\n",
       "      background-color: #434B5C;\n",
       "      box-shadow: 0px 1px 3px 1px rgba(0, 0, 0, 0.15);\n",
       "      filter: drop-shadow(0px 1px 2px rgba(0, 0, 0, 0.3));\n",
       "      fill: #FFFFFF;\n",
       "    }\n",
       "  </style>\n",
       "\n",
       "    <script>\n",
       "      const buttonEl =\n",
       "        document.querySelector('#df-3cfaf098-5b69-492f-9298-9090752ca964 button.colab-df-convert');\n",
       "      buttonEl.style.display =\n",
       "        google.colab.kernel.accessAllowed ? 'block' : 'none';\n",
       "\n",
       "      async function convertToInteractive(key) {\n",
       "        const element = document.querySelector('#df-3cfaf098-5b69-492f-9298-9090752ca964');\n",
       "        const dataTable =\n",
       "          await google.colab.kernel.invokeFunction('convertToInteractive',\n",
       "                                                    [key], {});\n",
       "        if (!dataTable) return;\n",
       "\n",
       "        const docLinkHtml = 'Like what you see? Visit the ' +\n",
       "          '<a target=\"_blank\" href=https://colab.research.google.com/notebooks/data_table.ipynb>data table notebook</a>'\n",
       "          + ' to learn more about interactive tables.';\n",
       "        element.innerHTML = '';\n",
       "        dataTable['output_type'] = 'display_data';\n",
       "        await google.colab.output.renderOutput(dataTable, element);\n",
       "        const docLink = document.createElement('div');\n",
       "        docLink.innerHTML = docLinkHtml;\n",
       "        element.appendChild(docLink);\n",
       "      }\n",
       "    </script>\n",
       "  </div>\n",
       "\n",
       "\n",
       "<div id=\"df-446491ed-d531-4388-9888-ddb855b32119\">\n",
       "  <button class=\"colab-df-quickchart\" onclick=\"quickchart('df-446491ed-d531-4388-9888-ddb855b32119')\"\n",
       "            title=\"Suggest charts\"\n",
       "            style=\"display:none;\">\n",
       "\n",
       "<svg xmlns=\"http://www.w3.org/2000/svg\" height=\"24px\"viewBox=\"0 0 24 24\"\n",
       "     width=\"24px\">\n",
       "    <g>\n",
       "        <path d=\"M19 3H5c-1.1 0-2 .9-2 2v14c0 1.1.9 2 2 2h14c1.1 0 2-.9 2-2V5c0-1.1-.9-2-2-2zM9 17H7v-7h2v7zm4 0h-2V7h2v10zm4 0h-2v-4h2v4z\"/>\n",
       "    </g>\n",
       "</svg>\n",
       "  </button>\n",
       "\n",
       "<style>\n",
       "  .colab-df-quickchart {\n",
       "      --bg-color: #E8F0FE;\n",
       "      --fill-color: #1967D2;\n",
       "      --hover-bg-color: #E2EBFA;\n",
       "      --hover-fill-color: #174EA6;\n",
       "      --disabled-fill-color: #AAA;\n",
       "      --disabled-bg-color: #DDD;\n",
       "  }\n",
       "\n",
       "  [theme=dark] .colab-df-quickchart {\n",
       "      --bg-color: #3B4455;\n",
       "      --fill-color: #D2E3FC;\n",
       "      --hover-bg-color: #434B5C;\n",
       "      --hover-fill-color: #FFFFFF;\n",
       "      --disabled-bg-color: #3B4455;\n",
       "      --disabled-fill-color: #666;\n",
       "  }\n",
       "\n",
       "  .colab-df-quickchart {\n",
       "    background-color: var(--bg-color);\n",
       "    border: none;\n",
       "    border-radius: 50%;\n",
       "    cursor: pointer;\n",
       "    display: none;\n",
       "    fill: var(--fill-color);\n",
       "    height: 32px;\n",
       "    padding: 0;\n",
       "    width: 32px;\n",
       "  }\n",
       "\n",
       "  .colab-df-quickchart:hover {\n",
       "    background-color: var(--hover-bg-color);\n",
       "    box-shadow: 0 1px 2px rgba(60, 64, 67, 0.3), 0 1px 3px 1px rgba(60, 64, 67, 0.15);\n",
       "    fill: var(--button-hover-fill-color);\n",
       "  }\n",
       "\n",
       "  .colab-df-quickchart-complete:disabled,\n",
       "  .colab-df-quickchart-complete:disabled:hover {\n",
       "    background-color: var(--disabled-bg-color);\n",
       "    fill: var(--disabled-fill-color);\n",
       "    box-shadow: none;\n",
       "  }\n",
       "\n",
       "  .colab-df-spinner {\n",
       "    border: 2px solid var(--fill-color);\n",
       "    border-color: transparent;\n",
       "    border-bottom-color: var(--fill-color);\n",
       "    animation:\n",
       "      spin 1s steps(1) infinite;\n",
       "  }\n",
       "\n",
       "  @keyframes spin {\n",
       "    0% {\n",
       "      border-color: transparent;\n",
       "      border-bottom-color: var(--fill-color);\n",
       "      border-left-color: var(--fill-color);\n",
       "    }\n",
       "    20% {\n",
       "      border-color: transparent;\n",
       "      border-left-color: var(--fill-color);\n",
       "      border-top-color: var(--fill-color);\n",
       "    }\n",
       "    30% {\n",
       "      border-color: transparent;\n",
       "      border-left-color: var(--fill-color);\n",
       "      border-top-color: var(--fill-color);\n",
       "      border-right-color: var(--fill-color);\n",
       "    }\n",
       "    40% {\n",
       "      border-color: transparent;\n",
       "      border-right-color: var(--fill-color);\n",
       "      border-top-color: var(--fill-color);\n",
       "    }\n",
       "    60% {\n",
       "      border-color: transparent;\n",
       "      border-right-color: var(--fill-color);\n",
       "    }\n",
       "    80% {\n",
       "      border-color: transparent;\n",
       "      border-right-color: var(--fill-color);\n",
       "      border-bottom-color: var(--fill-color);\n",
       "    }\n",
       "    90% {\n",
       "      border-color: transparent;\n",
       "      border-bottom-color: var(--fill-color);\n",
       "    }\n",
       "  }\n",
       "</style>\n",
       "\n",
       "  <script>\n",
       "    async function quickchart(key) {\n",
       "      const quickchartButtonEl =\n",
       "        document.querySelector('#' + key + ' button');\n",
       "      quickchartButtonEl.disabled = true;  // To prevent multiple clicks.\n",
       "      quickchartButtonEl.classList.add('colab-df-spinner');\n",
       "      try {\n",
       "        const charts = await google.colab.kernel.invokeFunction(\n",
       "            'suggestCharts', [key], {});\n",
       "      } catch (error) {\n",
       "        console.error('Error during call to suggestCharts:', error);\n",
       "      }\n",
       "      quickchartButtonEl.classList.remove('colab-df-spinner');\n",
       "      quickchartButtonEl.classList.add('colab-df-quickchart-complete');\n",
       "    }\n",
       "    (() => {\n",
       "      let quickchartButtonEl =\n",
       "        document.querySelector('#df-446491ed-d531-4388-9888-ddb855b32119 button');\n",
       "      quickchartButtonEl.style.display =\n",
       "        google.colab.kernel.accessAllowed ? 'block' : 'none';\n",
       "    })();\n",
       "  </script>\n",
       "</div>\n",
       "\n",
       "  <div id=\"id_0edf08e7-7a53-4958-81f9-459da00c5bc5\">\n",
       "    <style>\n",
       "      .colab-df-generate {\n",
       "        background-color: #E8F0FE;\n",
       "        border: none;\n",
       "        border-radius: 50%;\n",
       "        cursor: pointer;\n",
       "        display: none;\n",
       "        fill: #1967D2;\n",
       "        height: 32px;\n",
       "        padding: 0 0 0 0;\n",
       "        width: 32px;\n",
       "      }\n",
       "\n",
       "      .colab-df-generate:hover {\n",
       "        background-color: #E2EBFA;\n",
       "        box-shadow: 0px 1px 2px rgba(60, 64, 67, 0.3), 0px 1px 3px 1px rgba(60, 64, 67, 0.15);\n",
       "        fill: #174EA6;\n",
       "      }\n",
       "\n",
       "      [theme=dark] .colab-df-generate {\n",
       "        background-color: #3B4455;\n",
       "        fill: #D2E3FC;\n",
       "      }\n",
       "\n",
       "      [theme=dark] .colab-df-generate:hover {\n",
       "        background-color: #434B5C;\n",
       "        box-shadow: 0px 1px 3px 1px rgba(0, 0, 0, 0.15);\n",
       "        filter: drop-shadow(0px 1px 2px rgba(0, 0, 0, 0.3));\n",
       "        fill: #FFFFFF;\n",
       "      }\n",
       "    </style>\n",
       "    <button class=\"colab-df-generate\" onclick=\"generateWithVariable('df')\"\n",
       "            title=\"Generate code using this dataframe.\"\n",
       "            style=\"display:none;\">\n",
       "\n",
       "  <svg xmlns=\"http://www.w3.org/2000/svg\" height=\"24px\"viewBox=\"0 0 24 24\"\n",
       "       width=\"24px\">\n",
       "    <path d=\"M7,19H8.4L18.45,9,17,7.55,7,17.6ZM5,21V16.75L18.45,3.32a2,2,0,0,1,2.83,0l1.4,1.43a1.91,1.91,0,0,1,.58,1.4,1.91,1.91,0,0,1-.58,1.4L9.25,21ZM18.45,9,17,7.55Zm-12,3A5.31,5.31,0,0,0,4.9,8.1,5.31,5.31,0,0,0,1,6.5,5.31,5.31,0,0,0,4.9,4.9,5.31,5.31,0,0,0,6.5,1,5.31,5.31,0,0,0,8.1,4.9,5.31,5.31,0,0,0,12,6.5,5.46,5.46,0,0,0,6.5,12Z\"/>\n",
       "  </svg>\n",
       "    </button>\n",
       "    <script>\n",
       "      (() => {\n",
       "      const buttonEl =\n",
       "        document.querySelector('#id_0edf08e7-7a53-4958-81f9-459da00c5bc5 button.colab-df-generate');\n",
       "      buttonEl.style.display =\n",
       "        google.colab.kernel.accessAllowed ? 'block' : 'none';\n",
       "\n",
       "      buttonEl.onclick = () => {\n",
       "        google.colab.notebook.generateWithVariable('df');\n",
       "      }\n",
       "      })();\n",
       "    </script>\n",
       "  </div>\n",
       "\n",
       "    </div>\n",
       "  </div>\n"
      ],
      "text/plain": [
       "        band1  band2  band3  band4  band5  band6  band7  band8  band9  band10  \\\n",
       "0         647    499    464    371    291    319    365    322    296     305   \n",
       "1         604    546    527    455    378    377    336    314    324     329   \n",
       "2         621    746    556    360    285    300    274    276    332     319   \n",
       "3         637    592    482    556    508    284    178    198    193     224   \n",
       "4         625    560    480    360    377    341    264    208    231     266   \n",
       "...       ...    ...    ...    ...    ...    ...    ...    ...    ...     ...   \n",
       "207395    574    594    504    411    468    443    378    342    352     434   \n",
       "207396    485    644    709    582    504    494    434    373    391     421   \n",
       "207397    593    387    428    461    470    392    331    383    439     355   \n",
       "207398    593    751    655    458    503    560    482    412    404     454   \n",
       "207399    889    720    449    402    409    410    424    416    395     319   \n",
       "\n",
       "        ...  band95  band96  band97  band98  band99  band100  band101  \\\n",
       "0       ...    3416    3335    3256    3226    3205     3210     3221   \n",
       "1       ...    2583    2538    2509    2511    2501     2468     2442   \n",
       "2       ...    2288    2242    2193    2202    2225     2266     2308   \n",
       "3       ...    2675    2609    2541    2551    2571     2569     2573   \n",
       "4       ...    2392    2344    2289    2328    2415     2424     2386   \n",
       "...     ...     ...     ...     ...     ...     ...      ...      ...   \n",
       "207395  ...    2150    2157    2157    2169    2151     2108     2077   \n",
       "207396  ...    2264    2295    2282    2265    2275     2293     2274   \n",
       "207397  ...    2393    2407    2433    2413    2373     2389     2382   \n",
       "207398  ...    2340    2333    2332    2288    2251     2280     2312   \n",
       "207399  ...    2496    2502    2483    2488    2498     2455     2416   \n",
       "\n",
       "        band102  band103  class  \n",
       "0          3238     3250      0  \n",
       "1          2464     2528      0  \n",
       "2          2345     2361      0  \n",
       "3          2620     2644      0  \n",
       "4          2431     2456      0  \n",
       "...         ...      ...    ...  \n",
       "207395     2076     2136      0  \n",
       "207396     2274     2258      0  \n",
       "207397     2407     2423      0  \n",
       "207398     2308     2289      0  \n",
       "207399     2447     2485      0  \n",
       "\n",
       "[207400 rows x 104 columns]"
      ]
     },
     "execution_count": 15,
     "metadata": {},
     "output_type": "execute_result"
    }
   ],
   "source": [
    "df"
   ]
  },
  {
   "cell_type": "code",
   "execution_count": null,
   "id": "a4da412b",
   "metadata": {
    "colab": {
     "base_uri": "https://localhost:8080/"
    },
    "executionInfo": {
     "elapsed": 2,
     "status": "ok",
     "timestamp": 1709451167896,
     "user": {
      "displayName": "Mosa Alshwafi",
      "userId": "10914411233255572215"
     },
     "user_tz": -480
    },
    "id": "a4da412b",
    "outputId": "dd180b86-54d2-4454-feab-cef6a9165029"
   },
   "outputs": [
    {
     "data": {
      "text/plain": [
       "array([0, 1, 4, 2, 8, 5, 9, 6, 3, 7], dtype=uint8)"
      ]
     },
     "execution_count": 16,
     "metadata": {},
     "output_type": "execute_result"
    }
   ],
   "source": [
    "df['class'].unique()"
   ]
  },
  {
   "cell_type": "markdown",
   "id": "80099ba6",
   "metadata": {
    "id": "80099ba6"
   },
   "source": [
    "# Data Visualization"
   ]
  },
  {
   "cell_type": "code",
   "execution_count": null,
   "id": "a06e3a16",
   "metadata": {
    "colab": {
     "base_uri": "https://localhost:8080/",
     "height": 915,
     "output_embedded_package_id": "1jBpWCzeYeZmBulZ0NJ0FAYt4aXK5NXzr"
    },
    "executionInfo": {
     "elapsed": 7098,
     "status": "ok",
     "timestamp": 1709451179202,
     "user": {
      "displayName": "Mosa Alshwafi",
      "userId": "10914411233255572215"
     },
     "user_tz": -480
    },
    "id": "a06e3a16",
    "outputId": "b9721968-c3ad-44c9-8ec0-2d460c6868b1"
   },
   "outputs": [
    {
     "data": {
      "text/plain": [
       "Output hidden; open in https://colab.research.google.com to view."
      ]
     },
     "metadata": {},
     "output_type": "display_data"
    }
   ],
   "source": [
    "fig = plt.figure(figsize = (20, 12))\n",
    "\n",
    "ax = fig.subplots(2, 5)\n",
    "\n",
    "for i in range(2):\n",
    "  for j in range(5):\n",
    "    c = np.random.randint(103)\n",
    "    ax[i][j].imshow(data[:, :, c], cmap='nipy_spectral')\n",
    "    ax[i][j].axis('off')\n",
    "    ax[i][j].title.set_text(f\"Band - {c}\")\n",
    "    c+=1\n",
    "\n",
    "plt.tight_layout()\n",
    "plt.show()\n"
   ]
  },
  {
   "cell_type": "markdown",
   "id": "6e58dd4d",
   "metadata": {
    "id": "6e58dd4d"
   },
   "source": [
    "# RGB Composite Image"
   ]
  },
  {
   "cell_type": "code",
   "execution_count": null,
   "id": "31255876",
   "metadata": {
    "colab": {
     "base_uri": "https://localhost:8080/",
     "height": 422
    },
    "executionInfo": {
     "elapsed": 637,
     "status": "ok",
     "timestamp": 1709451183347,
     "user": {
      "displayName": "Mosa Alshwafi",
      "userId": "10914411233255572215"
     },
     "user_tz": -480
    },
    "id": "31255876",
    "outputId": "26864fac-f489-4088-baa4-6a805337347e"
   },
   "outputs": [
    {
     "data": {
      "image/png": "[encoded data removed]",
      "text/plain": [
       "<Figure size 500x500 with 1 Axes>"
      ]
     },
     "metadata": {},
     "output_type": "display_data"
    }
   ],
   "source": [
    "mdata = np.moveaxis(data, -1, 0)\n",
    "\n",
    "ep.plot_rgb(mdata, (29, 23, 0), figsize=(5, 5))\n",
    "\n",
    "plt.show()"
   ]
  },
  {
   "cell_type": "markdown",
   "id": "4958b622",
   "metadata": {
    "id": "4958b622"
   },
   "source": [
    "# GroundTruth Visualizaation"
   ]
  },
  {
   "cell_type": "code",
   "execution_count": null,
   "id": "372844cc",
   "metadata": {
    "colab": {
     "base_uri": "https://localhost:8080/",
     "height": 760
    },
    "executionInfo": {
     "elapsed": 4,
     "status": "ok",
     "timestamp": 1709451187531,
     "user": {
      "displayName": "Mosa Alshwafi",
      "userId": "10914411233255572215"
     },
     "user_tz": -480
    },
    "id": "372844cc",
    "outputId": "c96b208b-d1d7-497a-840b-4896a9d30a2e"
   },
   "outputs": [
    {
     "data": {
      "image/png": "[encoded data removed]",
      "text/plain": [
       "<Figure size 700x900 with 2 Axes>"
      ]
     },
     "metadata": {},
     "output_type": "display_data"
    }
   ],
   "source": [
    "ep.plot_bands(gt, cmap='nipy_spectral', title='Ground Truth of IP', figsize=(7, 9))\n",
    "plt.show()"
   ]
  },
  {
   "cell_type": "markdown",
   "id": "e94f4618",
   "metadata": {
    "id": "e94f4618"
   },
   "source": [
    "# Data Preparation"
   ]
  },
  {
   "cell_type": "code",
   "execution_count": 10,
   "id": "f892b865",
   "metadata": {
    "executionInfo": {
     "elapsed": 2,
     "status": "ok",
     "timestamp": 1709882554496,
     "user": {
      "displayName": "Mosa Alshwafi",
      "userId": "10914411233255572215"
     },
     "user_tz": -480
    },
    "id": "f892b865"
   },
   "outputs": [],
   "source": [
    "## GLOBAL VARIABLES\n",
    "\n",
    "# Proportion of the sample used for testing\n",
    "test_ratio = 0.7\n",
    "# Proportion of the sample used for Validation\n",
    "val_ratio = 0.1\n",
    "# Size of the extracted patch around each pixel\n",
    "patch1_size = 25\n",
    "# Number of principal components obtained by dimensionality reduction using PCA (original data: 30)\n",
    "pca_components = 30\n",
    "# classes\n",
    "num_classes = 9\n",
    "dataset='PU'"
   ]
  },
  {
   "cell_type": "code",
   "execution_count": 11,
   "id": "600034a0",
   "metadata": {
    "executionInfo": {
     "elapsed": 2,
     "status": "ok",
     "timestamp": 1709882555897,
     "user": {
      "displayName": "Mosa Alshwafi",
      "userId": "10914411233255572215"
     },
     "user_tz": -480
    },
    "id": "600034a0"
   },
   "outputs": [],
   "source": [
    "# Apply PCA transform to hyperspectral data X\n",
    "def applyPCA(X, numComponents):\n",
    "    newX = np.reshape(X, (-1, X.shape[2]))\n",
    "    pca = PCA(n_components=numComponents, whiten=True)\n",
    "    newX = pca.fit_transform(newX)\n",
    "    newX = np.reshape(newX, (X.shape[0], X.shape[1], numComponents))\n",
    "    return newX"
   ]
  },
  {
   "cell_type": "code",
   "execution_count": 12,
   "id": "0ad20cb7",
   "metadata": {
    "executionInfo": {
     "elapsed": 1,
     "status": "ok",
     "timestamp": 1709882558604,
     "user": {
      "displayName": "Mosa Alshwafi",
      "userId": "10914411233255572215"
     },
     "user_tz": -480
    },
    "id": "0ad20cb7"
   },
   "outputs": [],
   "source": [
    "# When extracting the patch around a single pixel, the edge pixels cannot be taken, so a padding operation is applied to this part of the pixel (margin original is 2)\n",
    "def padWithZeros(X, margin=2):\n",
    "    newX = np.zeros((X.shape[0] + 2 * margin, X.shape[1] + 2* margin, X.shape[2]))\n",
    "    x_offset = margin\n",
    "    y_offset = margin\n",
    "    newX[x_offset:X.shape[0] + x_offset, y_offset:X.shape[1] + y_offset, :] = X\n",
    "    return newX"
   ]
  },
  {
   "cell_type": "code",
   "execution_count": 13,
   "id": "4ff26975",
   "metadata": {
    "executionInfo": {
     "elapsed": 1,
     "status": "ok",
     "timestamp": 1709882559507,
     "user": {
      "displayName": "Mosa Alshwafi",
      "userId": "10914411233255572215"
     },
     "user_tz": -480
    },
    "id": "4ff26975"
   },
   "outputs": [],
   "source": [
    "# Extract the patch around each pixel and create it in a format that matches the keras processing (originally windowSize=5)\n",
    "def createImageCubes(X, y, windowSize=8, removeZeroLabels = True):\n",
    "    # for X to padding\n",
    "    margin = int((windowSize ) / 2)  # hybirdcnn是（（windowsize-1）/2）\n",
    "    zeroPaddedX = padWithZeros(X, margin=margin)\n",
    "    # split patches\n",
    "    patchesData = np.zeros((X.shape[0] * X.shape[1], windowSize, windowSize, X.shape[2]))\n",
    "    patchesLabels = np.zeros((X.shape[0] * X.shape[1]))\n",
    "    patchIndex = 0\n",
    "    for r in range(margin, zeroPaddedX.shape[0] - margin):\n",
    "        for c in range(margin, zeroPaddedX.shape[1] - margin):\n",
    "            patch = zeroPaddedX[r - margin:r + margin + 1, c - margin:c + margin + 1]\n",
    "            patchesData[patchIndex, :, :, :] = patch\n",
    "            patchesLabels[patchIndex] = y[r-margin, c-margin]\n",
    "            patchIndex = patchIndex + 1\n",
    "    if removeZeroLabels:\n",
    "        patchesData = patchesData[patchesLabels>0,:,:,:]\n",
    "        patchesLabels = patchesLabels[patchesLabels>0]\n",
    "        patchesLabels -= 1\n",
    "    return patchesData, patchesLabels\n"
   ]
  },
  {
   "cell_type": "code",
   "execution_count": 14,
   "id": "dc4c41c8",
   "metadata": {
    "executionInfo": {
     "elapsed": 2,
     "status": "ok",
     "timestamp": 1709882565950,
     "user": {
      "displayName": "Mosa Alshwafi",
      "userId": "10914411233255572215"
     },
     "user_tz": -480
    },
    "id": "dc4c41c8"
   },
   "outputs": [],
   "source": [
    "def splitTrainTestSet(X, y, testRatio, randomState=345):\n",
    "    X_train, X_test, y_train, y_test = train_test_split(X, y, test_size=testRatio, random_state=randomState, stratify=y)\n",
    "    return X_train, X_test, y_train, y_test"
   ]
  },
  {
   "cell_type": "code",
   "execution_count": 15,
   "id": "8386dae5",
   "metadata": {
    "colab": {
     "base_uri": "https://localhost:8080/"
    },
    "executionInfo": {
     "elapsed": 2,
     "status": "ok",
     "timestamp": 1709882568105,
     "user": {
      "displayName": "Mosa Alshwafi",
      "userId": "10914411233255572215"
     },
     "user_tz": -480
    },
    "id": "8386dae5",
    "outputId": "ef1bddd4-23f4-4f13-c26b-7b36ce0759c9"
   },
   "outputs": [
    {
     "name": "stdout",
     "output_type": "stream",
     "text": [
      "Hyperspectral data shape:  (610, 340, 103)\n",
      "Label shape:  (610, 340)\n"
     ]
    }
   ],
   "source": [
    "print('Hyperspectral data shape: ', data.shape)\n",
    "print('Label shape: ', gt.shape)"
   ]
  },
  {
   "cell_type": "code",
   "execution_count": 16,
   "id": "c7f2780b",
   "metadata": {
    "colab": {
     "base_uri": "https://localhost:8080/"
    },
    "executionInfo": {
     "elapsed": 3122,
     "status": "ok",
     "timestamp": 1709882579137,
     "user": {
      "displayName": "Mosa Alshwafi",
      "userId": "10914411233255572215"
     },
     "user_tz": -480
    },
    "id": "c7f2780b",
    "outputId": "2ab484a0-a647-4a60-a449-cfde955ea533"
   },
   "outputs": [
    {
     "name": "stdout",
     "output_type": "stream",
     "text": [
      "\n",
      "... ... PCA tranformation ... ...\n",
      "Data shape after PCA:  (610, 340, 30)\n"
     ]
    }
   ],
   "source": [
    "print('\\n... ... PCA tranformation ... ...')\n",
    "X = applyPCA(data, numComponents=pca_components)\n",
    "print('Data shape after PCA: ', X.shape)"
   ]
  },
  {
   "cell_type": "code",
   "execution_count": 17,
   "id": "cbf4e82e",
   "metadata": {
    "colab": {
     "base_uri": "https://localhost:8080/"
    },
    "executionInfo": {
     "elapsed": 19446,
     "status": "ok",
     "timestamp": 1709882598581,
     "user": {
      "displayName": "Mosa Alshwafi",
      "userId": "10914411233255572215"
     },
     "user_tz": -480
    },
    "id": "cbf4e82e",
    "outputId": "8bf74d8b-9716-4f44-c96b-74dc42ce80f4"
   },
   "outputs": [
    {
     "name": "stdout",
     "output_type": "stream",
     "text": [
      "\n",
      "... ... create data cubes ... ...\n",
      "Data cube X shape:  (42776, 25, 25, 30)\n",
      "Data cube y shape:  (42776,)\n"
     ]
    }
   ],
   "source": [
    "#X, Y = createImageCubes(data, gt, windowSize=windowSize, removeZeroLabels = True)\n",
    "#X.shape, Y.shape\n",
    "\n",
    "print('\\n... ... create data cubes ... ...')\n",
    "X, Y = createImageCubes(X, gt, windowSize=patch1_size)\n",
    "print('Data cube X shape: ', X.shape)\n",
    "print('Data cube y shape: ', Y.shape)"
   ]
  },
  {
   "cell_type": "code",
   "execution_count": 18,
   "id": "349ec2c5",
   "metadata": {
    "colab": {
     "base_uri": "https://localhost:8080/"
    },
    "executionInfo": {
     "elapsed": 5,
     "status": "ok",
     "timestamp": 1709882598582,
     "user": {
      "displayName": "Mosa Alshwafi",
      "userId": "10914411233255572215"
     },
     "user_tz": -480
    },
    "id": "349ec2c5",
    "outputId": "d700540b-39db-4799-bfff-e2ff763642c9"
   },
   "outputs": [
    {
     "data": {
      "text/plain": [
       "(42776, 25, 25, 30, 1)"
      ]
     },
     "execution_count": 18,
     "metadata": {},
     "output_type": "execute_result"
    }
   ],
   "source": [
    "# Reshape The X because we used 3D\n",
    "#(n, W, H, B)\n",
    "#(n, W, H, B, 1)\n",
    "X = X.reshape((X.shape[0],patch1_size,patch1_size,30,1))\n",
    "X.shape"
   ]
  },
  {
   "cell_type": "markdown",
   "id": "4b5786bb",
   "metadata": {
    "id": "4b5786bb"
   },
   "source": [
    "# Split Data"
   ]
  },
  {
   "cell_type": "code",
   "execution_count": 19,
   "id": "c220cb57",
   "metadata": {
    "colab": {
     "base_uri": "https://localhost:8080/"
    },
    "executionInfo": {
     "elapsed": 3209,
     "status": "ok",
     "timestamp": 1709882601788,
     "user": {
      "displayName": "Mosa Alshwafi",
      "userId": "10914411233255572215"
     },
     "user_tz": -480
    },
    "id": "c220cb57",
    "outputId": "d5b8e279-b06b-4fb0-886a-364c937bfacd"
   },
   "outputs": [
    {
     "name": "stdout",
     "output_type": "stream",
     "text": [
      "\n",
      "... ... create train & val & test data ... ...\n",
      "X_train shape:  (11548, 25, 25, 30, 1)\n",
      "X_val shape:  (1284, 25, 25, 30, 1)\n",
      "X_test  shape:  (29944, 25, 25, 30, 1)\n",
      "y_train shape:  (11548,)\n",
      "y_val shape:  (1284,)\n",
      "y_test shape: (29944,)\n"
     ]
    }
   ],
   "source": [
    "print('\\n... ... create train & val & test data ... ...')\n",
    "X_train, X_test, y_train, y_test = splitTrainTestSet(X, Y, test_ratio)\n",
    "X_train, X_val, y_train, y_val = splitTrainTestSet(X_train, y_train, val_ratio)\n",
    "\n",
    "print('X_train shape: ', X_train.shape)\n",
    "print('X_val shape: ', X_val.shape)\n",
    "print('X_test  shape: ', X_test.shape)\n",
    "print('y_train shape: ',y_train.shape)\n",
    "print('y_val shape: ',y_val.shape)\n",
    "print('y_test shape:' , y_test.shape)"
   ]
  },
  {
   "cell_type": "code",
   "execution_count": 20,
   "id": "6883792e",
   "metadata": {
    "colab": {
     "base_uri": "https://localhost:8080/"
    },
    "executionInfo": {
     "elapsed": 12,
     "status": "ok",
     "timestamp": 1709882601788,
     "user": {
      "displayName": "Mosa Alshwafi",
      "userId": "10914411233255572215"
     },
     "user_tz": -480
    },
    "id": "6883792e",
    "outputId": "5b990d4b-6ac7-4fb3-8c33-87a314e1cc66"
   },
   "outputs": [
    {
     "name": "stdout",
     "output_type": "stream",
     "text": [
      "y_train shape:  (11548, 9)\n",
      "y_val shape:  (1284, 9)\n",
      "y_test shape: (29944, 9)\n"
     ]
    }
   ],
   "source": [
    "# Change the shape of y_train, y_val and  to match keras\n",
    "y_train=np_utils.to_categorical(y_train)\n",
    "y_val=np_utils.to_categorical(y_val)\n",
    "y_test=np_utils.to_categorical(y_test)\n",
    "\n",
    "print('y_train shape: ',y_train.shape)\n",
    "print('y_val shape: ',y_val.shape)\n",
    "print('y_test shape:' , y_test.shape)"
   ]
  },
  {
   "cell_type": "markdown",
   "id": "7c5b635b",
   "metadata": {
    "id": "7c5b635b"
   },
   "source": [
    "# Parameters and Functions"
   ]
  },
  {
   "cell_type": "code",
   "execution_count": 21,
   "id": "9f503cae",
   "metadata": {
    "executionInfo": {
     "elapsed": 11,
     "status": "ok",
     "timestamp": 1709882601788,
     "user": {
      "displayName": "Mosa Alshwafi",
      "userId": "10914411233255572215"
     },
     "user_tz": -480
    },
    "id": "9f503cae"
   },
   "outputs": [],
   "source": [
    "#input_shape = (25, 25, 30) #need to follow loading.shape and afterPCA ---> ip_shape\n",
    "input_shape = (25, 25, 30, 1)\n",
    "\n",
    "patch_size = (2, 2)  # 2-by-2 sized patches\n",
    "dropout_rate = 0.03  # Dropout rate (origin0.03)\n",
    "num_heads = 8  # Attention heads\n",
    "embed_dim = 64  # Embedding dimension (origin64)\n",
    "num_mlp = 256  # MLP layer size\n",
    "qkv_bias = True  # Convert embedded patches to query, key, and values with a learnable additive value\n",
    "window_size = 2  # Size of attention window\n",
    "shift_size = 1  # Size of shifting window\n",
    "image_dimension = 25  # Initial image size (origin32) （afterPCA25）（afterCNN module 17）\n",
    "\n",
    "num_patch_x = input_shape[0] // patch_size[0]\n",
    "num_patch_y = input_shape[1] // patch_size[1]\n",
    "\n",
    "learning_rate = 1e-3\n",
    "batch_size = 512\n",
    "#num_epochs = 10\n",
    "num_epochs = 1\n",
    "validation_split = 0.1\n",
    "weight_decay = 0.0001\n",
    "label_smoothing = 0.1"
   ]
  },
  {
   "cell_type": "markdown",
   "id": "d2da7bd1",
   "metadata": {
    "id": "d2da7bd1"
   },
   "source": [
    "# Build Model"
   ]
  },
  {
   "cell_type": "code",
   "execution_count": 22,
   "id": "ea0d0347",
   "metadata": {
    "colab": {
     "base_uri": "https://localhost:8080/"
    },
    "executionInfo": {
     "elapsed": 12,
     "status": "ok",
     "timestamp": 1709882601789,
     "user": {
      "displayName": "Mosa Alshwafi",
      "userId": "10914411233255572215"
     },
     "user_tz": -480
    },
    "id": "ea0d0347",
    "outputId": "cf3c4a74-b9d4-4940-d343-d23813f66efa"
   },
   "outputs": [
    {
     "data": {
      "text/plain": [
       "<KerasTensor: shape=(None, 25, 25, 30, 1) dtype=float32 (created by layer 'input_1')>"
      ]
     },
     "execution_count": 22,
     "metadata": {},
     "output_type": "execute_result"
    }
   ],
   "source": [
    "imIn = Input(shape=input_shape)\n",
    "imIn"
   ]
  },
  {
   "cell_type": "code",
   "execution_count": 25,
   "id": "99a0fdc8",
   "metadata": {
    "colab": {
     "base_uri": "https://localhost:8080/"
    },
    "executionInfo": {
     "elapsed": 1191,
     "status": "ok",
     "timestamp": 1709882832097,
     "user": {
      "displayName": "Mosa Alshwafi",
      "userId": "10914411233255572215"
     },
     "user_tz": -480
    },
    "id": "99a0fdc8",
    "outputId": "976f3d84-207a-4c50-d2fa-68a509af6c45"
   },
   "outputs": [
    {
     "name": "stdout",
     "output_type": "stream",
     "text": [
      "(None, 19, 19, 18, 32)\n",
      "---------------------------\n",
      "(None, 19, 19, 576)\n",
      "---------------------------\n",
      "(None, 17, 17, 64)\n",
      "---------------------------\n",
      "random crop: (None, 25, 25, 64)\n",
      "random flip: (None, 25, 25, 64)\n",
      "patch extract: (None, 144, 256)\n",
      "patch embedding: (None, 144, 64)\n",
      "swin1: (None, 144, 64)\n",
      "swin2: (None, 144, 64)\n",
      "patchmerging: (None, 36, 128)\n",
      "global average pooling: (None, 128)\n",
      "out: (None, 128)\n"
     ]
    }
   ],
   "source": [
    "# CNN Model\n",
    "## 3D Convolutional Layers\n",
    "conv_layer1 = Conv3D(filters=8, kernel_size=(3, 3, 7), activation='relu')(imIn)\n",
    "conv_layer2 = Conv3D(filters=16, kernel_size=(3, 3, 5), activation='relu')(conv_layer1)\n",
    "conv_layer3 = Conv3D(filters=32, kernel_size=(3, 3, 3), activation='relu')(conv_layer2)\n",
    "print(conv_layer3.shape)\n",
    "print(\"---------------------------\")\n",
    "conv3d_shape = conv_layer3.shape\n",
    "conv_layer3 = Reshape((conv3d_shape[1], conv3d_shape[2], conv3d_shape[3]*conv3d_shape[4]))(conv_layer3)\n",
    "print(conv_layer3.shape)\n",
    "print(\"---------------------------\")\n",
    "\n",
    "#2DCNN\n",
    "conv_layer4 =Conv2D(filters=64, kernel_size=(3,3), activation='relu')(conv_layer3)\n",
    "print(conv_layer4.shape)\n",
    "print(\"---------------------------\")\n",
    "\n",
    "# SWIN Transformer Layers\n",
    "x = layers.RandomCrop(image_dimension, image_dimension)(conv_layer4)\n",
    "print('random crop:',x.shape)\n",
    "x = layers.RandomFlip(\"horizontal\")(x)\n",
    "print('random flip:',x.shape)\n",
    "x = PatchExtract(patch_size)(x)\n",
    "print('patch extract:',x.shape)\n",
    "x = PatchEmbedding(num_patch_x * num_patch_y, embed_dim)(x)\n",
    "print('patch embedding:',x.shape)\n",
    "x = SwinTransformer(\n",
    "    dim=embed_dim,\n",
    "    num_patch=(num_patch_x, num_patch_y),\n",
    "    num_heads=num_heads,\n",
    "    window_size=window_size,\n",
    "    shift_size=0,\n",
    "    num_mlp=num_mlp,\n",
    "    qkv_bias=qkv_bias,\n",
    "    dropout_rate=dropout_rate,\n",
    ")(x)\n",
    "print('swin1:',x.shape)\n",
    "x = SwinTransformer(\n",
    "    dim=embed_dim,\n",
    "    num_patch=(num_patch_x, num_patch_y),\n",
    "    num_heads=num_heads,\n",
    "    window_size=window_size,\n",
    "    shift_size=shift_size,\n",
    "    num_mlp=num_mlp,\n",
    "    qkv_bias=qkv_bias,\n",
    "    dropout_rate=dropout_rate,\n",
    ")(x)\n",
    "print('swin2:',x.shape)\n",
    "x = PatchMerging((num_patch_x, num_patch_y), embed_dim=embed_dim)(x)\n",
    "print('patchmerging:',x.shape)\n",
    "x = layers.GlobalAveragePooling1D()(x)\n",
    "print('global average pooling:',x.shape)\n",
    "output = layers.Dense(num_classes, activation=\"softmax\")(x)\n",
    "print('out:',x.shape)"
   ]
  },
  {
   "cell_type": "code",
   "execution_count": 26,
   "id": "0bc88608",
   "metadata": {
    "colab": {
     "base_uri": "https://localhost:8080/"
    },
    "executionInfo": {
     "elapsed": 706,
     "status": "ok",
     "timestamp": 1709882862442,
     "user": {
      "displayName": "Mosa Alshwafi",
      "userId": "10914411233255572215"
     },
     "user_tz": -480
    },
    "id": "0bc88608",
    "outputId": "e87d7a10-12aa-4bf6-cace-7a021e14de9b"
   },
   "outputs": [
    {
     "name": "stdout",
     "output_type": "stream",
     "text": [
      "Model: \"model_1\"\n",
      "_________________________________________________________________\n",
      " Layer (type)                Output Shape              Param #   \n",
      "=================================================================\n",
      " input_1 (InputLayer)        [(None, 25, 25, 30, 1)]   0         \n",
      "                                                                 \n",
      " conv3d_3 (Conv3D)           (None, 23, 23, 24, 8)     512       \n",
      "                                                                 \n",
      " conv3d_4 (Conv3D)           (None, 21, 21, 20, 16)    5776      \n",
      "                                                                 \n",
      " conv3d_5 (Conv3D)           (None, 19, 19, 18, 32)    13856     \n",
      "                                                                 \n",
      " reshape_1 (Reshape)         (None, 19, 19, 576)       0         \n",
      "                                                                 \n",
      " conv2d_1 (Conv2D)           (None, 17, 17, 64)        331840    \n",
      "                                                                 \n",
      " random_crop_1 (RandomCrop)  (None, 25, 25, 64)        0         \n",
      "                                                                 \n",
      " random_flip_1 (RandomFlip)  (None, 25, 25, 64)        0         \n",
      "                                                                 \n",
      " patch_extract_1 (PatchExtr  (None, 144, 256)          0         \n",
      " act)                                                            \n",
      "                                                                 \n",
      " patch_embedding_1 (PatchEm  (None, 144, 64)           25664     \n",
      " bedding)                                                        \n",
      "                                                                 \n",
      " swin_transformer_2 (SwinTr  (None, 144, 64)           50072     \n",
      " ansformer)                                                      \n",
      "                                                                 \n",
      " swin_transformer_3 (SwinTr  (None, 144, 64)           50648     \n",
      " ansformer)                                                      \n",
      "                                                                 \n",
      " patch_merging_1 (PatchMerg  (None, 36, 128)           32768     \n",
      " ing)                                                            \n",
      "                                                                 \n",
      " global_average_pooling1d_1  (None, 128)               0         \n",
      "  (GlobalAveragePooling1D)                                       \n",
      "                                                                 \n",
      " dense_21 (Dense)            (None, 9)                 1161      \n",
      "                                                                 \n",
      "=================================================================\n",
      "Total params: 512297 (1.96 MB)\n",
      "Trainable params: 511689 (1.95 MB)\n",
      "Non-trainable params: 608 (4.75 KB)\n",
      "_________________________________________________________________\n"
     ]
    }
   ],
   "source": [
    "model = Model(inputs=[imIn], outputs=output)\n",
    "model.summary()"
   ]
  },
  {
   "cell_type": "markdown",
   "id": "8d4a8421",
   "metadata": {
    "id": "8d4a8421"
   },
   "source": [
    "## Train Model"
   ]
  },
  {
   "cell_type": "code",
   "execution_count": 27,
   "id": "883e6959",
   "metadata": {
    "executionInfo": {
     "elapsed": 1040,
     "status": "ok",
     "timestamp": 1709882872052,
     "user": {
      "displayName": "Mosa Alshwafi",
      "userId": "10914411233255572215"
     },
     "user_tz": -480
    },
    "id": "883e6959"
   },
   "outputs": [],
   "source": [
    "model.compile(\n",
    "    loss=keras.losses.CategoricalCrossentropy(label_smoothing=label_smoothing),\n",
    "    optimizer=tfa.optimizers.AdamW(\n",
    "        learning_rate=learning_rate, weight_decay=weight_decay\n",
    "    ),\n",
    "    metrics=[\n",
    "        keras.metrics.CategoricalAccuracy(name=\"accuracy\"),\n",
    "    ],\n",
    ")"
   ]
  },
  {
   "cell_type": "code",
   "execution_count": 28,
   "id": "aba7017a",
   "metadata": {
    "colab": {
     "base_uri": "https://localhost:8080/"
    },
    "executionInfo": {
     "elapsed": 458253,
     "status": "ok",
     "timestamp": 1709883330892,
     "user": {
      "displayName": "Mosa Alshwafi",
      "userId": "10914411233255572215"
     },
     "user_tz": -480
    },
    "id": "aba7017a",
    "outputId": "b843ebf9-d9f8-4d86-eeef-70ad609b6e38"
   },
   "outputs": [
    {
     "name": "stdout",
     "output_type": "stream",
     "text": [
      "Epoch 1/100\n",
      "23/23 [==============================] - 20s 365ms/step - loss: 2.6493 - accuracy: 0.3108 - val_loss: 1.9245 - val_accuracy: 0.4283\n",
      "Epoch 2/100\n",
      "23/23 [==============================] - 4s 191ms/step - loss: 1.6508 - accuracy: 0.4813 - val_loss: 1.2929 - val_accuracy: 0.6254\n",
      "Epoch 3/100\n",
      "23/23 [==============================] - 4s 191ms/step - loss: 1.0762 - accuracy: 0.7350 - val_loss: 0.8957 - val_accuracy: 0.8310\n",
      "Epoch 4/100\n",
      "23/23 [==============================] - 4s 191ms/step - loss: 0.8058 - accuracy: 0.8886 - val_loss: 0.7341 - val_accuracy: 0.9221\n",
      "Epoch 5/100\n",
      "23/23 [==============================] - 4s 191ms/step - loss: 0.6884 - accuracy: 0.9429 - val_loss: 0.6519 - val_accuracy: 0.9587\n",
      "Epoch 6/100\n",
      "23/23 [==============================] - 4s 190ms/step - loss: 0.6269 - accuracy: 0.9652 - val_loss: 0.6045 - val_accuracy: 0.9798\n",
      "Epoch 7/100\n",
      "23/23 [==============================] - 4s 190ms/step - loss: 0.5899 - accuracy: 0.9776 - val_loss: 0.5866 - val_accuracy: 0.9868\n",
      "Epoch 8/100\n",
      "23/23 [==============================] - 4s 191ms/step - loss: 0.5725 - accuracy: 0.9833 - val_loss: 0.5605 - val_accuracy: 0.9883\n",
      "Epoch 9/100\n",
      "23/23 [==============================] - 4s 192ms/step - loss: 0.5573 - accuracy: 0.9888 - val_loss: 0.5563 - val_accuracy: 0.9883\n",
      "Epoch 10/100\n",
      "23/23 [==============================] - 4s 194ms/step - loss: 0.5469 - accuracy: 0.9906 - val_loss: 0.5474 - val_accuracy: 0.9883\n",
      "Epoch 11/100\n",
      "23/23 [==============================] - 4s 194ms/step - loss: 0.5405 - accuracy: 0.9926 - val_loss: 0.5349 - val_accuracy: 0.9945\n",
      "Epoch 12/100\n",
      "23/23 [==============================] - 4s 193ms/step - loss: 0.5313 - accuracy: 0.9939 - val_loss: 0.5291 - val_accuracy: 0.9945\n",
      "Epoch 13/100\n",
      "23/23 [==============================] - 4s 192ms/step - loss: 0.5280 - accuracy: 0.9944 - val_loss: 0.5290 - val_accuracy: 0.9945\n",
      "Epoch 14/100\n",
      "23/23 [==============================] - 5s 206ms/step - loss: 0.5253 - accuracy: 0.9947 - val_loss: 0.5255 - val_accuracy: 0.9953\n",
      "Epoch 15/100\n",
      "23/23 [==============================] - 4s 192ms/step - loss: 0.5209 - accuracy: 0.9955 - val_loss: 0.5197 - val_accuracy: 0.9953\n",
      "Epoch 16/100\n",
      "23/23 [==============================] - 4s 190ms/step - loss: 0.5184 - accuracy: 0.9964 - val_loss: 0.5161 - val_accuracy: 0.9969\n",
      "Epoch 17/100\n",
      "23/23 [==============================] - 4s 190ms/step - loss: 0.5165 - accuracy: 0.9962 - val_loss: 0.5180 - val_accuracy: 0.9977\n",
      "Epoch 18/100\n",
      "23/23 [==============================] - 4s 191ms/step - loss: 0.5141 - accuracy: 0.9968 - val_loss: 0.5158 - val_accuracy: 0.9961\n",
      "Epoch 19/100\n",
      "23/23 [==============================] - 4s 191ms/step - loss: 0.5107 - accuracy: 0.9969 - val_loss: 0.5128 - val_accuracy: 0.9961\n",
      "Epoch 20/100\n",
      "23/23 [==============================] - 4s 191ms/step - loss: 0.5091 - accuracy: 0.9976 - val_loss: 0.5106 - val_accuracy: 0.9969\n",
      "Epoch 21/100\n",
      "23/23 [==============================] - 4s 191ms/step - loss: 0.5073 - accuracy: 0.9975 - val_loss: 0.5102 - val_accuracy: 0.9977\n",
      "Epoch 22/100\n",
      "23/23 [==============================] - 4s 190ms/step - loss: 0.5062 - accuracy: 0.9982 - val_loss: 0.5068 - val_accuracy: 0.9977\n",
      "Epoch 23/100\n",
      "23/23 [==============================] - 4s 191ms/step - loss: 0.5042 - accuracy: 0.9987 - val_loss: 0.5069 - val_accuracy: 0.9969\n",
      "Epoch 24/100\n",
      "23/23 [==============================] - 4s 190ms/step - loss: 0.5030 - accuracy: 0.9983 - val_loss: 0.5046 - val_accuracy: 0.9984\n",
      "Epoch 25/100\n",
      "23/23 [==============================] - 4s 190ms/step - loss: 0.5032 - accuracy: 0.9984 - val_loss: 0.5037 - val_accuracy: 0.9984\n",
      "Epoch 26/100\n",
      "23/23 [==============================] - 4s 190ms/step - loss: 0.5013 - accuracy: 0.9992 - val_loss: 0.5027 - val_accuracy: 0.9969\n",
      "Epoch 27/100\n",
      "23/23 [==============================] - 4s 191ms/step - loss: 0.4993 - accuracy: 0.9991 - val_loss: 0.5023 - val_accuracy: 0.9977\n",
      "Epoch 28/100\n",
      "23/23 [==============================] - 4s 191ms/step - loss: 0.4989 - accuracy: 0.9991 - val_loss: 0.5000 - val_accuracy: 0.9977\n",
      "Epoch 29/100\n",
      "23/23 [==============================] - 4s 190ms/step - loss: 0.4981 - accuracy: 0.9992 - val_loss: 0.5006 - val_accuracy: 0.9984\n",
      "Epoch 30/100\n",
      "23/23 [==============================] - 4s 190ms/step - loss: 0.4984 - accuracy: 0.9990 - val_loss: 0.4984 - val_accuracy: 0.9984\n",
      "Epoch 31/100\n",
      "23/23 [==============================] - 4s 192ms/step - loss: 0.4970 - accuracy: 0.9997 - val_loss: 0.4980 - val_accuracy: 0.9984\n",
      "Epoch 32/100\n",
      "23/23 [==============================] - 4s 191ms/step - loss: 0.4962 - accuracy: 0.9997 - val_loss: 0.4972 - val_accuracy: 0.9984\n",
      "Epoch 33/100\n",
      "23/23 [==============================] - 4s 192ms/step - loss: 0.4956 - accuracy: 0.9997 - val_loss: 0.4984 - val_accuracy: 0.9984\n",
      "Epoch 34/100\n",
      "23/23 [==============================] - 4s 191ms/step - loss: 0.4958 - accuracy: 0.9993 - val_loss: 0.4985 - val_accuracy: 0.9977\n",
      "Epoch 35/100\n",
      "23/23 [==============================] - 4s 192ms/step - loss: 0.4953 - accuracy: 0.9996 - val_loss: 0.4972 - val_accuracy: 0.9984\n",
      "Epoch 36/100\n",
      "23/23 [==============================] - 4s 191ms/step - loss: 0.4944 - accuracy: 0.9997 - val_loss: 0.4965 - val_accuracy: 0.9984\n",
      "Epoch 37/100\n",
      "23/23 [==============================] - 4s 191ms/step - loss: 0.4942 - accuracy: 0.9997 - val_loss: 0.4971 - val_accuracy: 0.9977\n",
      "Epoch 38/100\n",
      "23/23 [==============================] - 4s 191ms/step - loss: 0.4938 - accuracy: 0.9996 - val_loss: 0.4959 - val_accuracy: 0.9977\n",
      "Epoch 39/100\n",
      "23/23 [==============================] - 4s 191ms/step - loss: 0.4928 - accuracy: 0.9998 - val_loss: 0.4954 - val_accuracy: 0.9977\n",
      "Epoch 40/100\n",
      "23/23 [==============================] - 4s 191ms/step - loss: 0.4928 - accuracy: 0.9997 - val_loss: 0.4949 - val_accuracy: 0.9977\n",
      "Epoch 41/100\n",
      "23/23 [==============================] - 4s 190ms/step - loss: 0.4927 - accuracy: 0.9996 - val_loss: 0.4935 - val_accuracy: 0.9992\n",
      "Epoch 42/100\n",
      "23/23 [==============================] - 4s 191ms/step - loss: 0.4923 - accuracy: 0.9996 - val_loss: 0.4956 - val_accuracy: 0.9984\n",
      "Epoch 43/100\n",
      "23/23 [==============================] - 4s 190ms/step - loss: 0.4923 - accuracy: 0.9998 - val_loss: 0.4959 - val_accuracy: 0.9984\n",
      "Epoch 44/100\n",
      "23/23 [==============================] - 4s 190ms/step - loss: 0.4916 - accuracy: 0.9999 - val_loss: 0.4921 - val_accuracy: 0.9984\n",
      "Epoch 45/100\n",
      "23/23 [==============================] - 4s 192ms/step - loss: 0.4918 - accuracy: 0.9997 - val_loss: 0.4930 - val_accuracy: 0.9984\n",
      "Epoch 46/100\n",
      "23/23 [==============================] - 4s 191ms/step - loss: 0.4916 - accuracy: 0.9999 - val_loss: 0.4928 - val_accuracy: 0.9984\n",
      "Epoch 47/100\n",
      "23/23 [==============================] - 4s 191ms/step - loss: 0.4914 - accuracy: 0.9999 - val_loss: 0.4930 - val_accuracy: 0.9984\n",
      "Epoch 48/100\n",
      "23/23 [==============================] - 4s 190ms/step - loss: 0.4909 - accuracy: 1.0000 - val_loss: 0.4931 - val_accuracy: 0.9984\n",
      "Epoch 49/100\n",
      "23/23 [==============================] - 4s 191ms/step - loss: 0.4905 - accuracy: 0.9999 - val_loss: 0.4935 - val_accuracy: 0.9984\n",
      "Epoch 50/100\n",
      "23/23 [==============================] - 4s 191ms/step - loss: 0.4905 - accuracy: 0.9998 - val_loss: 0.4917 - val_accuracy: 0.9992\n",
      "Epoch 51/100\n",
      "23/23 [==============================] - 4s 192ms/step - loss: 0.4904 - accuracy: 0.9997 - val_loss: 0.4925 - val_accuracy: 0.9992\n",
      "Epoch 52/100\n",
      "23/23 [==============================] - 4s 192ms/step - loss: 0.4902 - accuracy: 0.9999 - val_loss: 0.4905 - val_accuracy: 0.9992\n",
      "Epoch 53/100\n",
      "23/23 [==============================] - 4s 192ms/step - loss: 0.4901 - accuracy: 0.9998 - val_loss: 0.4921 - val_accuracy: 0.9984\n",
      "Epoch 54/100\n",
      "23/23 [==============================] - 4s 192ms/step - loss: 0.4906 - accuracy: 0.9996 - val_loss: 0.4910 - val_accuracy: 0.9992\n",
      "Epoch 55/100\n",
      "23/23 [==============================] - 4s 192ms/step - loss: 0.4897 - accuracy: 0.9997 - val_loss: 0.4913 - val_accuracy: 0.9992\n",
      "Epoch 56/100\n",
      "23/23 [==============================] - 4s 192ms/step - loss: 0.4898 - accuracy: 0.9997 - val_loss: 0.4923 - val_accuracy: 0.9977\n",
      "Epoch 57/100\n",
      "23/23 [==============================] - 5s 196ms/step - loss: 0.4901 - accuracy: 0.9997 - val_loss: 0.4915 - val_accuracy: 0.9992\n",
      "Epoch 58/100\n",
      "23/23 [==============================] - 4s 191ms/step - loss: 0.4897 - accuracy: 0.9998 - val_loss: 0.4911 - val_accuracy: 1.0000\n",
      "Epoch 59/100\n",
      "23/23 [==============================] - 4s 191ms/step - loss: 0.4896 - accuracy: 0.9997 - val_loss: 0.4908 - val_accuracy: 0.9992\n",
      "Epoch 60/100\n",
      "23/23 [==============================] - 4s 192ms/step - loss: 0.4895 - accuracy: 1.0000 - val_loss: 0.4911 - val_accuracy: 1.0000\n",
      "Epoch 61/100\n",
      "23/23 [==============================] - 4s 191ms/step - loss: 0.4889 - accuracy: 1.0000 - val_loss: 0.4899 - val_accuracy: 1.0000\n",
      "Epoch 62/100\n",
      "23/23 [==============================] - 4s 192ms/step - loss: 0.4890 - accuracy: 1.0000 - val_loss: 0.4905 - val_accuracy: 1.0000\n",
      "Epoch 63/100\n",
      "23/23 [==============================] - 4s 192ms/step - loss: 0.4889 - accuracy: 0.9999 - val_loss: 0.4899 - val_accuracy: 1.0000\n",
      "Epoch 64/100\n",
      "23/23 [==============================] - 4s 192ms/step - loss: 0.4890 - accuracy: 1.0000 - val_loss: 0.4893 - val_accuracy: 1.0000\n",
      "Epoch 65/100\n",
      "23/23 [==============================] - 4s 191ms/step - loss: 0.4891 - accuracy: 0.9998 - val_loss: 0.4907 - val_accuracy: 1.0000\n",
      "Epoch 66/100\n",
      "23/23 [==============================] - 4s 191ms/step - loss: 0.4893 - accuracy: 0.9998 - val_loss: 0.4899 - val_accuracy: 1.0000\n",
      "Epoch 67/100\n",
      "23/23 [==============================] - 4s 191ms/step - loss: 0.4887 - accuracy: 0.9999 - val_loss: 0.4896 - val_accuracy: 1.0000\n",
      "Epoch 68/100\n",
      "23/23 [==============================] - 4s 192ms/step - loss: 0.4886 - accuracy: 0.9999 - val_loss: 0.4899 - val_accuracy: 1.0000\n",
      "Epoch 69/100\n",
      "23/23 [==============================] - 4s 191ms/step - loss: 0.4887 - accuracy: 0.9997 - val_loss: 0.4917 - val_accuracy: 0.9984\n",
      "Epoch 70/100\n",
      "23/23 [==============================] - 4s 191ms/step - loss: 0.4886 - accuracy: 0.9998 - val_loss: 0.4892 - val_accuracy: 1.0000\n",
      "Epoch 71/100\n",
      "23/23 [==============================] - 4s 191ms/step - loss: 0.4881 - accuracy: 1.0000 - val_loss: 0.4903 - val_accuracy: 0.9984\n",
      "Epoch 72/100\n",
      "23/23 [==============================] - 4s 191ms/step - loss: 0.4883 - accuracy: 1.0000 - val_loss: 0.4896 - val_accuracy: 1.0000\n",
      "Epoch 73/100\n",
      "23/23 [==============================] - 4s 191ms/step - loss: 0.4886 - accuracy: 0.9999 - val_loss: 0.4892 - val_accuracy: 1.0000\n",
      "Epoch 74/100\n",
      "23/23 [==============================] - 4s 191ms/step - loss: 0.4883 - accuracy: 0.9999 - val_loss: 0.4887 - val_accuracy: 1.0000\n",
      "Epoch 75/100\n",
      "23/23 [==============================] - 4s 191ms/step - loss: 0.4882 - accuracy: 0.9997 - val_loss: 0.4892 - val_accuracy: 1.0000\n",
      "Epoch 76/100\n",
      "23/23 [==============================] - 4s 192ms/step - loss: 0.4879 - accuracy: 1.0000 - val_loss: 0.4889 - val_accuracy: 1.0000\n",
      "Epoch 77/100\n",
      "23/23 [==============================] - 4s 191ms/step - loss: 0.4880 - accuracy: 0.9998 - val_loss: 0.4891 - val_accuracy: 1.0000\n",
      "Epoch 78/100\n",
      "23/23 [==============================] - 4s 191ms/step - loss: 0.4880 - accuracy: 0.9999 - val_loss: 0.4893 - val_accuracy: 1.0000\n",
      "Epoch 79/100\n",
      "23/23 [==============================] - 4s 192ms/step - loss: 0.4878 - accuracy: 1.0000 - val_loss: 0.4900 - val_accuracy: 0.9992\n",
      "Epoch 80/100\n",
      "23/23 [==============================] - 4s 190ms/step - loss: 0.4881 - accuracy: 0.9999 - val_loss: 0.4888 - val_accuracy: 1.0000\n",
      "Epoch 81/100\n",
      "23/23 [==============================] - 4s 192ms/step - loss: 0.4877 - accuracy: 1.0000 - val_loss: 0.4891 - val_accuracy: 1.0000\n",
      "Epoch 82/100\n",
      "23/23 [==============================] - 4s 191ms/step - loss: 0.4876 - accuracy: 1.0000 - val_loss: 0.4889 - val_accuracy: 1.0000\n",
      "Epoch 83/100\n",
      "23/23 [==============================] - 4s 191ms/step - loss: 0.4879 - accuracy: 0.9998 - val_loss: 0.4899 - val_accuracy: 1.0000\n",
      "Epoch 84/100\n",
      "23/23 [==============================] - 4s 191ms/step - loss: 0.4879 - accuracy: 0.9999 - val_loss: 0.4883 - val_accuracy: 1.0000\n",
      "Epoch 85/100\n",
      "23/23 [==============================] - 4s 192ms/step - loss: 0.4875 - accuracy: 1.0000 - val_loss: 0.4884 - val_accuracy: 1.0000\n",
      "Epoch 86/100\n",
      "23/23 [==============================] - 4s 191ms/step - loss: 0.4877 - accuracy: 0.9998 - val_loss: 0.4896 - val_accuracy: 0.9992\n",
      "Epoch 87/100\n",
      "23/23 [==============================] - 4s 190ms/step - loss: 0.4877 - accuracy: 0.9997 - val_loss: 0.4894 - val_accuracy: 1.0000\n",
      "Epoch 88/100\n",
      "23/23 [==============================] - 4s 191ms/step - loss: 0.4879 - accuracy: 0.9999 - val_loss: 0.4884 - val_accuracy: 1.0000\n",
      "Epoch 89/100\n",
      "23/23 [==============================] - 4s 190ms/step - loss: 0.4878 - accuracy: 0.9999 - val_loss: 0.4889 - val_accuracy: 1.0000\n",
      "Epoch 90/100\n",
      "23/23 [==============================] - 4s 191ms/step - loss: 0.4877 - accuracy: 0.9999 - val_loss: 0.4895 - val_accuracy: 1.0000\n",
      "Epoch 91/100\n",
      "23/23 [==============================] - 4s 192ms/step - loss: 0.4874 - accuracy: 1.0000 - val_loss: 0.4886 - val_accuracy: 1.0000\n",
      "Epoch 92/100\n",
      "23/23 [==============================] - 4s 190ms/step - loss: 0.4871 - accuracy: 1.0000 - val_loss: 0.4880 - val_accuracy: 1.0000\n",
      "Epoch 93/100\n",
      "23/23 [==============================] - 4s 192ms/step - loss: 0.4873 - accuracy: 0.9998 - val_loss: 0.4884 - val_accuracy: 1.0000\n",
      "Epoch 94/100\n",
      "23/23 [==============================] - 4s 192ms/step - loss: 0.4870 - accuracy: 1.0000 - val_loss: 0.4885 - val_accuracy: 1.0000\n",
      "Epoch 95/100\n",
      "23/23 [==============================] - 4s 191ms/step - loss: 0.4873 - accuracy: 0.9999 - val_loss: 0.4883 - val_accuracy: 1.0000\n",
      "Epoch 96/100\n",
      "23/23 [==============================] - 4s 191ms/step - loss: 0.4875 - accuracy: 1.0000 - val_loss: 0.4885 - val_accuracy: 1.0000\n",
      "Epoch 97/100\n",
      "23/23 [==============================] - 4s 191ms/step - loss: 0.4875 - accuracy: 0.9998 - val_loss: 0.4886 - val_accuracy: 1.0000\n",
      "Epoch 98/100\n",
      "23/23 [==============================] - 4s 191ms/step - loss: 0.4874 - accuracy: 0.9999 - val_loss: 0.4894 - val_accuracy: 0.9992\n",
      "Epoch 99/100\n",
      "23/23 [==============================] - 4s 191ms/step - loss: 0.4871 - accuracy: 1.0000 - val_loss: 0.4882 - val_accuracy: 1.0000\n",
      "Epoch 100/100\n",
      "23/23 [==============================] - 4s 191ms/step - loss: 0.4870 - accuracy: 1.0000 - val_loss: 0.4878 - val_accuracy: 1.0000\n",
      "\n",
      " Training Time: 457.8839943408966\n"
     ]
    }
   ],
   "source": [
    "start = time()\n",
    "\n",
    "history = model.fit(\n",
    "    X_train, #The display is modified: the original indicates x_train, y_train\n",
    "    y_train, #\n",
    "    batch_size=batch_size,\n",
    "    epochs=100,\n",
    "    validation_data = (X_val, y_val),\n",
    ")\n",
    "\n",
    "end = time()\n",
    "print(\"\\n Training Time:\", (end-start))\n",
    "\n",
    "# Save Training Hostry to CSV\n",
    "history_data = pd.DataFrame(history.history)\n",
    "history_data_csv_file = '/content/drive/MyDrive/Colab Notebooks/Save_Files/PU/PU_history.csv'\n",
    "with open(history_data_csv_file, mode='w') as f:\n",
    "    history_data.to_csv(f)"
   ]
  },
  {
   "cell_type": "markdown",
   "id": "f9278df2",
   "metadata": {
    "id": "f9278df2"
   },
   "source": [
    "## Result"
   ]
  },
  {
   "cell_type": "code",
   "execution_count": 29,
   "id": "4Xy-OiVjpB9u",
   "metadata": {
    "colab": {
     "base_uri": "https://localhost:8080/",
     "height": 473
    },
    "executionInfo": {
     "elapsed": 1257,
     "status": "ok",
     "timestamp": 1709883438367,
     "user": {
      "displayName": "Mosa Alshwafi",
      "userId": "10914411233255572215"
     },
     "user_tz": -480
    },
    "id": "4Xy-OiVjpB9u",
    "outputId": "3a653dec-3ff6-43db-85de-97dbd62074e7"
   },
   "outputs": [
    {
     "data": {
      "image/png": "[encoded data removed]",
      "text/plain": [
       "<Figure size 640x480 with 1 Axes>"
      ]
     },
     "metadata": {},
     "output_type": "display_data"
    }
   ],
   "source": [
    "plt.plot(history.history[\"accuracy\"], label=\"Train_accuracy\")\n",
    "plt.plot(history.history[\"val_accuracy\"], label=\"Val_accuracy\")\n",
    "plt.xlabel(\"Epochs\")\n",
    "plt.ylabel(\"Accuracy\")\n",
    "plt.title(\"Train and Validation Accuracies Over Epochs\", fontsize=14)\n",
    "plt.legend()\n",
    "#plt.grid()\n",
    "plt.show()"
   ]
  },
  {
   "cell_type": "code",
   "execution_count": 30,
   "id": "3973cfea",
   "metadata": {
    "colab": {
     "base_uri": "https://localhost:8080/",
     "height": 473
    },
    "executionInfo": {
     "elapsed": 975,
     "status": "ok",
     "timestamp": 1709883445685,
     "user": {
      "displayName": "Mosa Alshwafi",
      "userId": "10914411233255572215"
     },
     "user_tz": -480
    },
    "id": "3973cfea",
    "outputId": "b819c46f-c17a-455f-bca6-da4c810198ea"
   },
   "outputs": [
    {
     "data": {
      "image/png": "[encoded data removed]",
      "text/plain": [
       "<Figure size 640x480 with 1 Axes>"
      ]
     },
     "metadata": {},
     "output_type": "display_data"
    }
   ],
   "source": [
    "plt.plot(history.history[\"loss\"], label=\"Train_loss\")\n",
    "plt.plot(history.history[\"val_loss\"], label=\"Val_loss\")\n",
    "plt.xlabel(\"Epochs\")\n",
    "plt.ylabel(\"Loss\")\n",
    "plt.title(\"Train and Validation Losses Over Epochs\", fontsize=14)\n",
    "plt.legend()\n",
    "#plt.grid()\n",
    "plt.show()"
   ]
  },
  {
   "cell_type": "code",
   "execution_count": 31,
   "id": "IUmRnQSn_vpq",
   "metadata": {
    "colab": {
     "base_uri": "https://localhost:8080/"
    },
    "executionInfo": {
     "elapsed": 15610,
     "status": "ok",
     "timestamp": 1709883475342,
     "user": {
      "displayName": "Mosa Alshwafi",
      "userId": "10914411233255572215"
     },
     "user_tz": -480
    },
    "id": "IUmRnQSn_vpq",
    "outputId": "e40bf2a6-d586-4080-dc55-794a46702b9e"
   },
   "outputs": [
    {
     "name": "stdout",
     "output_type": "stream",
     "text": [
      "936/936 [==============================] - 10s 10ms/step - loss: 0.4882 - accuracy: 0.9997\n",
      "Test loss: 0.49\n",
      "Test accuracy: 99.97%\n"
     ]
    }
   ],
   "source": [
    "loss, accuracy = model.evaluate(X_test, y_test)\n",
    "print(f\"Test loss: {round(loss, 2)}\")\n",
    "print(f\"Test accuracy: {round(accuracy * 100, 2)}%\")"
   ]
  },
  {
   "cell_type": "code",
   "execution_count": 32,
   "id": "0101c6ee",
   "metadata": {
    "colab": {
     "base_uri": "https://localhost:8080/"
    },
    "executionInfo": {
     "elapsed": 17143,
     "status": "ok",
     "timestamp": 1709883509081,
     "user": {
      "displayName": "Mosa Alshwafi",
      "userId": "10914411233255572215"
     },
     "user_tz": -480
    },
    "id": "0101c6ee",
    "outputId": "1339f23f-81af-422f-d346-6c377f776b16"
   },
   "outputs": [
    {
     "name": "stdout",
     "output_type": "stream",
     "text": [
      "936/936 [==============================] - 10s 10ms/step\n",
      "              precision    recall  f1-score   support\n",
      "\n",
      "           0       1.00      1.00      1.00      4642\n",
      "           1       1.00      1.00      1.00     13055\n",
      "           2       1.00      1.00      1.00      1469\n",
      "           3       1.00      1.00      1.00      2145\n",
      "           4       1.00      1.00      1.00       942\n",
      "           5       1.00      1.00      1.00      3520\n",
      "           6       1.00      1.00      1.00       931\n",
      "           7       1.00      1.00      1.00      2577\n",
      "           8       1.00      1.00      1.00       663\n",
      "\n",
      "    accuracy                           1.00     29944\n",
      "   macro avg       1.00      1.00      1.00     29944\n",
      "weighted avg       1.00      1.00      1.00     29944\n",
      "\n"
     ]
    }
   ],
   "source": [
    "Y_pred_test = model.predict(X_test)\n",
    "y_pred_test = np.argmax(Y_pred_test, axis=1)\n",
    "\n",
    "classification = classification_report(np.argmax(y_test, axis=1), y_pred_test)\n",
    "print(classification)"
   ]
  },
  {
   "cell_type": "markdown",
   "id": "4016e65e",
   "metadata": {
    "id": "4016e65e"
   },
   "source": [
    "## Classification Map"
   ]
  },
  {
   "cell_type": "code",
   "execution_count": 33,
   "id": "2307bc5f",
   "metadata": {
    "executionInfo": {
     "elapsed": 953,
     "status": "ok",
     "timestamp": 1709883514939,
     "user": {
      "displayName": "Mosa Alshwafi",
      "userId": "10914411233255572215"
     },
     "user_tz": -480
    },
    "id": "2307bc5f"
   },
   "outputs": [],
   "source": [
    "def AA_andEachClassAccuracy(confusion_matrix):\n",
    "    counter = confusion_matrix.shape[0]\n",
    "    list_diag = np.diag(confusion_matrix)\n",
    "    list_raw_sum = np.sum(confusion_matrix, axis=1)\n",
    "    each_acc = np.nan_to_num(truediv(list_diag, list_raw_sum))\n",
    "    average_acc = np.mean(each_acc)\n",
    "    return each_acc, average_acc"
   ]
  },
  {
   "cell_type": "code",
   "execution_count": 34,
   "id": "6bcead7b",
   "metadata": {
    "executionInfo": {
     "elapsed": 2,
     "status": "ok",
     "timestamp": 1709883517729,
     "user": {
      "displayName": "Mosa Alshwafi",
      "userId": "10914411233255572215"
     },
     "user_tz": -480
    },
    "id": "6bcead7b"
   },
   "outputs": [],
   "source": [
    "def reports (X_test,y_test,name):\n",
    "    #start = time.time()\n",
    "    Y_pred = model.predict(X_test)\n",
    "    y_pred = np.argmax(Y_pred, axis=1)\n",
    "    #end = time.time()\n",
    "    #print(end - start)\n",
    "    if name == 'IP':\n",
    "        target_names = ['Alfalfa', 'Corn-notill', 'Corn-mintill', 'Corn'\n",
    "                        ,'Grass-pasture', 'Grass-trees', 'Grass-pasture-mowed',\n",
    "                        'Hay-windrowed', 'Oats', 'Soybean-notill', 'Soybean-mintill',\n",
    "                        'Soybean-clean', 'Wheat', 'Woods', 'Buildings-Grass-Trees-Drives',\n",
    "                        'Stone-Steel-Towers']\n",
    "    elif name == 'SA':\n",
    "        target_names = ['Brocoli_green_weeds_1','Brocoli_green_weeds_2','Fallow','Fallow_rough_plow','Fallow_smooth',\n",
    "                        'Stubble','Celery','Grapes_untrained','Soil_vinyard_develop','Corn_senesced_green_weeds',\n",
    "                        'Lettuce_romaine_4wk','Lettuce_romaine_5wk','Lettuce_romaine_6wk','Lettuce_romaine_7wk',\n",
    "                        'Vinyard_untrained','Vinyard_vertical_trellis']\n",
    "    elif name == 'PU':\n",
    "        target_names = ['Asphalt','Meadows','Gravel','Trees', 'Painted metal sheets','Bare Soil','Bitumen',\n",
    "                        'Self-Blocking Bricks','Shadows']\n",
    "\n",
    "    classification = classification_report(np.argmax(y_test, axis=1), y_pred, target_names=target_names)\n",
    "    oa = accuracy_score(np.argmax(y_test, axis=1), y_pred)\n",
    "    confusion = confusion_matrix(np.argmax(y_test, axis=1), y_pred)\n",
    "    each_acc, aa = AA_andEachClassAccuracy(confusion)\n",
    "    kappa = cohen_kappa_score(np.argmax(y_test, axis=1), y_pred)\n",
    "    score = model.evaluate(X_test, y_test, batch_size=32)\n",
    "    Test_Loss =  score[0]*100\n",
    "    Test_accuracy = score[1]*100\n",
    "\n",
    "    return classification, confusion, Test_Loss, Test_accuracy, oa*100, each_acc*100, aa*100, kappa*100"
   ]
  },
  {
   "cell_type": "code",
   "execution_count": 35,
   "id": "6c366797",
   "metadata": {
    "colab": {
     "base_uri": "https://localhost:8080/"
    },
    "executionInfo": {
     "elapsed": 32027,
     "status": "ok",
     "timestamp": 1709883558138,
     "user": {
      "displayName": "Mosa Alshwafi",
      "userId": "10914411233255572215"
     },
     "user_tz": -480
    },
    "id": "6c366797",
    "outputId": "fdf8c21f-403d-4595-94a1-4a82b45a8be4"
   },
   "outputs": [
    {
     "name": "stdout",
     "output_type": "stream",
     "text": [
      "936/936 [==============================] - 9s 10ms/step\n",
      "936/936 [==============================] - 10s 10ms/step - loss: 0.4883 - accuracy: 0.9996\n",
      "                      precision    recall  f1-score   support\n",
      "\n",
      "             Asphalt       1.00      1.00      1.00      4642\n",
      "             Meadows       1.00      1.00      1.00     13055\n",
      "              Gravel       1.00      1.00      1.00      1469\n",
      "               Trees       1.00      1.00      1.00      2145\n",
      "Painted metal sheets       1.00      1.00      1.00       942\n",
      "           Bare Soil       1.00      1.00      1.00      3520\n",
      "             Bitumen       1.00      1.00      1.00       931\n",
      "Self-Blocking Bricks       1.00      1.00      1.00      2577\n",
      "             Shadows       1.00      1.00      1.00       663\n",
      "\n",
      "            accuracy                           1.00     29944\n",
      "           macro avg       1.00      1.00      1.00     29944\n",
      "        weighted avg       1.00      1.00      1.00     29944\n",
      "\n"
     ]
    }
   ],
   "source": [
    "classification, confusion, Test_loss, Test_accuracy, oa, each_acc, aa, kappa = reports(X_test,y_test,dataset)\n",
    "classification = str(classification)\n",
    "confusion = str(confusion)\n",
    "print(classification)\n",
    "file_name = \"/content/drive/MyDrive/Colab Notebooks/Save_Files/PU/PU_classification_report.txt\"\n",
    "\n",
    "with open(file_name, 'w') as x_file:\n",
    "    x_file.write('{} Test loss (%)'.format(Test_loss))\n",
    "    x_file.write('\\n')\n",
    "    x_file.write('{} Test accuracy (%)'.format(Test_accuracy))\n",
    "    x_file.write('\\n')\n",
    "    x_file.write('\\n')\n",
    "    x_file.write('{} Kappa accuracy (%)'.format(kappa))\n",
    "    x_file.write('\\n')\n",
    "    x_file.write('{} Overall accuracy (%)'.format(oa))\n",
    "    x_file.write('\\n')\n",
    "    x_file.write('{} Average accuracy (%)'.format(aa))\n",
    "    x_file.write('\\n')\n",
    "    x_file.write('\\n')\n",
    "    x_file.write('{}'.format(classification))\n",
    "    x_file.write('\\n')\n",
    "    x_file.write('{}'.format(confusion))"
   ]
  },
  {
   "cell_type": "markdown",
   "id": "3748b14f",
   "metadata": {
    "id": "3748b14f"
   },
   "source": [
    "# Show predicted image"
   ]
  },
  {
   "cell_type": "code",
   "execution_count": 40,
   "id": "eacc968b",
   "metadata": {
    "executionInfo": {
     "elapsed": 895,
     "status": "ok",
     "timestamp": 1709883622370,
     "user": {
      "displayName": "Mosa Alshwafi",
      "userId": "10914411233255572215"
     },
     "user_tz": -480
    },
    "id": "eacc968b"
   },
   "outputs": [],
   "source": [
    "def Patch(data,height_index,width_index):\n",
    "    height_slice = slice(height_index, height_index+PATCH_SIZE)\n",
    "    width_slice = slice(width_index, width_index+PATCH_SIZE)\n",
    "    patch = data[height_slice, width_slice, :]\n",
    "    return patch\n",
    "\n",
    "# K after PCA\n",
    "K = 30\n",
    "windowSize1 = 25"
   ]
  },
  {
   "cell_type": "code",
   "execution_count": 41,
   "id": "41387a82",
   "metadata": {
    "colab": {
     "base_uri": "https://localhost:8080/",
     "output_embedded_package_id": "1kdstefQWiWsr_hxVQmgvx2l-rLtlow-6"
    },
    "executionInfo": {
     "elapsed": 3042100,
     "status": "ok",
     "timestamp": 1709886668337,
     "user": {
      "displayName": "Mosa Alshwafi",
      "userId": "10914411233255572215"
     },
     "user_tz": -480
    },
    "id": "41387a82",
    "outputId": "91003589-6cfe-4b41-e066-323a9e5ee6ab"
   },
   "outputs": [
    {
     "data": {
      "text/plain": [
       "Output hidden; open in https://colab.research.google.com to view."
      ]
     },
     "metadata": {},
     "output_type": "display_data"
    }
   ],
   "source": [
    "X = loadmat('PU/PaviaU.mat')['paviaU']\n",
    "y = loadmat('PU/PaviaU_gt.mat')['paviaU_gt']\n",
    "\n",
    "height = y.shape[0]\n",
    "width = y.shape[1]\n",
    "PATCH_SIZE = windowSize1\n",
    "numComponents = K\n",
    "\n",
    "X = applyPCA(X, numComponents= pca_components)\n",
    "X = padWithZeros(X, PATCH_SIZE//2)\n",
    "\n",
    "# calculate the predicted image\n",
    "outputs = np.zeros((height,width))\n",
    "for i in tqdm(range(height)):\n",
    "    for j in range(width):\n",
    "        target = int(y[i,j])\n",
    "        if target == 0 :\n",
    "            continue\n",
    "        else :\n",
    "            image_patch=Patch(X,i,j)\n",
    "            X_test_image = image_patch.reshape(1,image_patch.shape[0],image_patch.shape[1], image_patch.shape[2],1).astype('float32')\n",
    "            prediction = (model.predict(X_test_image))\n",
    "            prediction = np.argmax(prediction, axis=1)\n",
    "            outputs[i][j] = prediction+1\n",
    "\n"
   ]
  },
  {
   "cell_type": "code",
   "execution_count": null,
   "id": "6bd0a837",
   "metadata": {
    "colab": {
     "base_uri": "https://localhost:8080/",
     "height": 1000
    },
    "executionInfo": {
     "elapsed": 1298,
     "status": "ok",
     "timestamp": 1709455477086,
     "user": {
      "displayName": "Mosa Alshwafi",
      "userId": "10914411233255572215"
     },
     "user_tz": -480
    },
    "id": "6bd0a837",
    "outputId": "1f81d004-cdbd-4e6d-ca64-69b785044276"
   },
   "outputs": [
    {
     "name": "stderr",
     "output_type": "stream",
     "text": [
      "/usr/local/lib/python3.10/dist-packages/spectral/graphics/spypylab.py:796: UserWarning: Failed to create RectangleSelector object. Interactive pixel class labeling will be unavailable.\n",
      "  warnings.warn(msg)\n"
     ]
    },
    {
     "data": {
      "image/png": "[encoded data removed]",
      "text/plain": [
       "<Figure size 700x700 with 1 Axes>"
      ]
     },
     "metadata": {},
     "output_type": "display_data"
    },
    {
     "data": {
      "image/png": "[encoded data removed]",
      "text/plain": [
       "<Figure size 700x700 with 1 Axes>"
      ]
     },
     "metadata": {},
     "output_type": "display_data"
    }
   ],
   "source": [
    "ground_truth = spectral.imshow(classes = y,figsize =(7,7))\n",
    "predict_image = spectral.imshow(classes = outputs.astype(int),figsize =(7,7))\n",
    "spectral.save_rgb(\"/content/drive/MyDrive/Colab Notebooks/Save_Files/PU/PU_predictions.jpg\", outputs.astype(int), colors=spectral.spy_colors)\n",
    "spectral.save_rgb(\"/content/drive/MyDrive/Colab Notebooks/Save_Files/PU/PU_ground_truth.png\", y, colors=spectral.spy_colors)"
   ]
  }
 ],
 "metadata": {
  "accelerator": "GPU",
  "colab": {
   "gpuType": "V100",
   "machine_shape": "hm",
   "provenance": []
  },
  "kernelspec": {
   "display_name": "Python 3 (ipykernel)",
   "language": "python",
   "name": "python3"
  },
  "language_info": {
   "codemirror_mode": {
    "name": "ipython",
    "version": 3
   },
   "file_extension": ".py",
   "mimetype": "text/x-python",
   "name": "python",
   "nbconvert_exporter": "python",
   "pygments_lexer": "ipython3",
   "version": "3.11.7"
  }
 },
 "nbformat": 4,
 "nbformat_minor": 5
}
